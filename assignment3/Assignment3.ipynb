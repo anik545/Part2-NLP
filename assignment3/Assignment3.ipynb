{
 "cells": [
  {
   "cell_type": "code",
   "execution_count": 164,
   "metadata": {},
   "outputs": [],
   "source": [
    "from nltk.corpus import wordnet as wn"
   ]
  },
  {
   "cell_type": "code",
   "execution_count": 165,
   "metadata": {},
   "outputs": [],
   "source": [
    "z = wn.synsets('drip')"
   ]
  },
  {
   "cell_type": "code",
   "execution_count": 166,
   "metadata": {},
   "outputs": [
    {
     "name": "stdout",
     "output_type": "stream",
     "text": [
      "[Lemma('drip.n.01.drip'), Lemma('drip.n.01.trickle'), Lemma('drip.n.01.dribble')]\n",
      "[]\n",
      "[Lemma('drip.n.02.drip'), Lemma('drip.n.02.dripping')]\n",
      "[]\n",
      "[Lemma('drip.n.03.drip'), Lemma('drip.n.03.drip_mold'), Lemma('drip.n.03.drip_mould')]\n",
      "[]\n",
      "[Lemma('drip.v.01.drip')]\n",
      "[]\n",
      "[Lemma('dribble.v.02.dribble'), Lemma('dribble.v.02.drip'), Lemma('dribble.v.02.drop')]\n",
      "[]\n"
     ]
    }
   ],
   "source": [
    "for sense in z:\n",
    "    print(sense.lemmas())\n",
    "    print(sense.similar_tos())"
   ]
  },
  {
   "cell_type": "code",
   "execution_count": 167,
   "metadata": {},
   "outputs": [
    {
     "data": {
      "text/plain": [
       "0.09090909090909091"
      ]
     },
     "execution_count": 167,
     "metadata": {},
     "output_type": "execute_result"
    }
   ],
   "source": [
    "drip_v = wn.synsets('drip', pos='v')\n",
    "drip_n = wn.synsets('drip', pos='n')\n",
    "\n",
    "droplet = wn.synsets('droplets')\n",
    "\n",
    "\n",
    "drip_n[1].path_similarity(droplet[0])"
   ]
  },
  {
   "cell_type": "code",
   "execution_count": 168,
   "metadata": {},
   "outputs": [
    {
     "data": {
      "text/plain": [
       "[]"
      ]
     },
     "execution_count": 168,
     "metadata": {},
     "output_type": "execute_result"
    }
   ],
   "source": [
    "z[0].lemmas()[0].frame_strings()"
   ]
  },
  {
   "cell_type": "code",
   "execution_count": 169,
   "metadata": {},
   "outputs": [
    {
     "data": {
      "text/plain": [
       "[Synset('abstraction.n.06')]"
      ]
     },
     "execution_count": 169,
     "metadata": {},
     "output_type": "execute_result"
    }
   ],
   "source": [
    "drip_n[0].lowest_common_hypernyms(droplet[0])"
   ]
  },
  {
   "cell_type": "code",
   "execution_count": 170,
   "metadata": {},
   "outputs": [
    {
     "data": {
      "text/plain": [
       "[Synset('flow.n.01')]"
      ]
     },
     "execution_count": 170,
     "metadata": {},
     "output_type": "execute_result"
    }
   ],
   "source": [
    "drip_n[0].hypernyms()"
   ]
  },
  {
   "cell_type": "code",
   "execution_count": 171,
   "metadata": {},
   "outputs": [
    {
     "data": {
      "text/plain": [
       "[(Synset('droplet.n.01'), 0),\n",
       " (Synset('drop.n.02'), 1),\n",
       " (Synset('small_indefinite_quantity.n.01'), 2),\n",
       " (Synset('indefinite_quantity.n.01'), 3),\n",
       " (Synset('measure.n.02'), 4),\n",
       " (Synset('abstraction.n.06'), 5),\n",
       " (Synset('entity.n.01'), 6)]"
      ]
     },
     "execution_count": 171,
     "metadata": {},
     "output_type": "execute_result"
    }
   ],
   "source": [
    "sorted(list(droplet[0].hypernym_distances()), key=lambda x:x[1])"
   ]
  },
  {
   "cell_type": "code",
   "execution_count": 172,
   "metadata": {
    "scrolled": true
   },
   "outputs": [
    {
     "data": {
      "text/plain": [
       "[(Synset('drip.n.01'), 0),\n",
       " (Synset('flow.n.01'), 1),\n",
       " (Synset('change_of_location.n.01'), 2),\n",
       " (Synset('movement.n.03'), 3),\n",
       " (Synset('happening.n.01'), 4),\n",
       " (Synset('event.n.01'), 5),\n",
       " (Synset('psychological_feature.n.01'), 6),\n",
       " (Synset('abstraction.n.06'), 7),\n",
       " (Synset('entity.n.01'), 8)]"
      ]
     },
     "execution_count": 172,
     "metadata": {},
     "output_type": "execute_result"
    }
   ],
   "source": [
    "sorted(list(drip_n[0].hypernym_distances()), key=lambda x:x[1])"
   ]
  },
  {
   "cell_type": "code",
   "execution_count": 173,
   "metadata": {},
   "outputs": [
    {
     "data": {
      "text/plain": [
       "[Lemma('droplet.n.01.droplet'), Lemma('dribble.v.02.drop')]"
      ]
     },
     "execution_count": 173,
     "metadata": {},
     "output_type": "execute_result"
    }
   ],
   "source": [
    "ls = drip_v[1].lemmas()\n",
    "ls[2].derivationally_related_forms()[0].derivationally_related_forms()"
   ]
  },
  {
   "cell_type": "code",
   "execution_count": 174,
   "metadata": {},
   "outputs": [
    {
     "data": {
      "text/plain": [
       "[Lemma('drip.v.01.drip')]"
      ]
     },
     "execution_count": 174,
     "metadata": {},
     "output_type": "execute_result"
    }
   ],
   "source": [
    "drip_v[0].lemmas()\n"
   ]
  },
  {
   "cell_type": "code",
   "execution_count": 205,
   "metadata": {},
   "outputs": [
    {
     "data": {
      "text/plain": [
       "0.2"
      ]
     },
     "execution_count": 205,
     "metadata": {},
     "output_type": "execute_result"
    }
   ],
   "source": [
    "wn.synsets('charge')[2].path_similarity(wn.synsets('pay')[0])"
   ]
  },
  {
   "cell_type": "code",
   "execution_count": 217,
   "metadata": {},
   "outputs": [
    {
     "data": {
      "text/plain": [
       "0.7777777777777778"
      ]
     },
     "execution_count": 217,
     "metadata": {},
     "output_type": "execute_result"
    }
   ],
   "source": [
    "wn.synsets('charge')[2].wup_similarity(wn.synsets('pay')[0])"
   ]
  },
  {
   "cell_type": "code",
   "execution_count": null,
   "metadata": {},
   "outputs": [],
   "source": []
  }
 ],
 "metadata": {
  "kernelspec": {
   "display_name": "Python 2",
   "language": "python",
   "name": "python2"
  },
  "language_info": {
   "codemirror_mode": {
    "name": "ipython",
    "version": 2
   },
   "file_extension": ".py",
   "mimetype": "text/x-python",
   "name": "python",
   "nbconvert_exporter": "python",
   "pygments_lexer": "ipython2",
   "version": "2.7.15+"
  }
 },
 "nbformat": 4,
 "nbformat_minor": 2
}
