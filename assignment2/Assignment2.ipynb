{
 "cells": [
  {
   "cell_type": "code",
   "execution_count": 44,
   "metadata": {},
   "outputs": [
    {
     "name": "stdout",
     "output_type": "stream",
     "text": [
      "The autoreload extension is already loaded. To reload it, use:\n",
      "  %reload_ext autoreload\n"
     ]
    }
   ],
   "source": [
    "%load_ext autoreload\n"
   ]
  },
  {
   "cell_type": "code",
   "execution_count": 110,
   "metadata": {},
   "outputs": [],
   "source": [
    "%autoreload\n",
    "from src.load_files import *\n",
    "from src.doc2vec import *\n",
    "from src.permutation_test import *"
   ]
  },
  {
   "cell_type": "code",
   "execution_count": 46,
   "metadata": {},
   "outputs": [
    {
     "name": "stderr",
     "output_type": "stream",
     "text": [
      "Loading files from NEG: 100%|██████████| 1000/1000 [00:11<00:00, 85.61it/s]\n",
      "Loading files from POS: 100%|██████████| 1000/1000 [00:10<00:00, 93.31it/s]\n",
      "Loading files: 100%|██████████| 100000/100000 [00:06<00:00, 14615.43it/s]\n"
     ]
    },
    {
     "name": "stdout",
     "output_type": "stream",
     "text": [
      "*** LOADED DOCUMENTS FOR DOC2VEC ***\n"
     ]
    }
   ],
   "source": [
    "pang_docs = load_all_pang_docs()\n",
    "all_docs = load_all_docs()\n",
    "validation, the_rest = validation_set(pang_docs)\n"
   ]
  },
  {
   "cell_type": "code",
   "execution_count": 64,
   "metadata": {},
   "outputs": [],
   "source": [
    "model = Doc2VecSVM()\n",
    "# model.train(the_rest, all_docs)\n",
    "model.set_model(\"model_{}\")"
   ]
  },
  {
   "cell_type": "code",
   "execution_count": 65,
   "metadata": {},
   "outputs": [],
   "source": [
    "model.train_svm(the_rest)"
   ]
  },
  {
   "cell_type": "code",
   "execution_count": 81,
   "metadata": {
    "scrolled": true
   },
   "outputs": [
    {
     "name": "stdout",
     "output_type": "stream",
     "text": [
      "[-1.140040364549823, 1.195863852950239, -0.2740547885132033, 1.2345386940796628, 0.08461470140999805, -0.4588442989898079, 2.0333502288281027, 1.0650466528164253, 0.2033505314511288, -0.4626600848453154, 0.007363149173194028, 0.881809588628093, 0.047852042151749985, 1.1998748782556108, 1.3717390312960092, 1.1009464584755315, 2.639173566987273, 0.013630539635050343, 0.08297821182651433, 1.0366759502122989, 0.6837265784503292, 0.9697697455913235, 2.058872045379598, -1.575900427188385, 1.7962958922659031, 2.5229789494918156, 0.6617139778838868, -0.7554665316103611, -0.24537104316832692, 2.1969043517765687, 0.6740319120907674, 0.9876135877310528, 1.0397248957925163, -1.521024054931886, -0.5209490315930155, -0.5335333252560077, 1.1628521391233733, -0.48455943003848145, 0.14555569083720243, 0.448740677858817, -0.6612928837019945, 0.1080430380161268, -1.0784209026074862, -0.4495519873705579, 3.1150913291815514, 0.505030391579125, -0.4352548594569248, 3.4912765507685957, 0.04425633607493529, 1.2509921123293588, 0.0900925485551245, 1.4540401795736377, 1.3936359201543302, 2.104412291563435, 2.224615193310117, -1.2766803410341558, 2.7717781856636243, -0.12392171158122345, -0.6269851090100176, -1.128455313055064, 4.011569920049778, 0.21712280066421963, 1.4935425584397755, 1.3470347362127906, -0.045460436858080766, 1.4850859551004092, 0.4763779025179611, -0.23780316589196904, 1.7034969225622936, 0.18164133276783923, 0.30910028905232245, 0.37745107982439796, -0.27529835662759405, 0.36330518167376225, 0.7173888808120785, 2.152083493975511, 0.3895513439802476, 1.345247967422643, 2.2080639169191962, -1.1428316838862753, 2.288909694369156, 0.3376617278234506, 0.06402777088128608, 2.4744406096103093, -0.28368188221485613, 0.9311228703110201, 1.237391300695304, 0.7545188313330098, 1.8110353386798224, -0.3277551933443559, 0.8252735284954817, 1.860837569768206, -1.6289620111270078, 2.8178571229796927, -0.029622450023448765, 0.08101257896951009, 0.3982508248189687, -1.4943454128449352, 0.08410144666160979, -0.39713278998351137, -1.2378405519682238, -0.433991174784422, -1.1686629850983934, -0.1711388936721343, -1.3327043352252987, -0.7286375699933662, 0.8246320031309442, -0.687749739064132, 0.529357681136218, 1.5281010182749273, -0.6925695130406329, -1.2034025893775746, 0.7651214196996401, -1.6826535486522263, -1.0967262393588473, -2.3487863471777297, -0.9550949423227387, -0.10439733365620629, -2.213560654019592, 0.6092567473354185, 0.596472018128011, -0.6659914059991827, -0.3276509413667368, -0.8814886423557116, -0.39734961000003455, -0.5789286100508348, 0.121650179784486, -0.577436277755818, -0.9150692830032536, -0.06131994929715123, -2.1456465391713913, -2.264402118853118, -1.9832718993063236, -0.9874083500300601, -1.1957069926772599, -0.7444637049714298, -1.5234423614848205, -0.9393536195035236, -1.049972138825181, -0.43857178776654465, 1.226508942656361, -1.1425547442986583, -1.6046039397090985, -1.013015577066056, -1.3119043129752963, -0.7390824364963664, -1.1020748830470695, -1.279746867779921, 0.6719944943085454, 1.2935528247265164, 0.5392104725675129, -1.238401287643925, -1.9409159158372336, 1.0505970525456192, 0.12689540770798846, -2.1858835220090773, -1.8752153619041914, -0.24405102801412082, 0.9549644327388647, 1.2184194752402746, -0.38711156451918216, -0.5801119406631401, -0.19488141309036777, -0.23947644701460336, -0.6878940111419799, 0.31082749803529985, -1.8027769402913738, -0.9780587853690597, -1.7928879048388504, -2.1417582344296706, 0.13762736292802602, -0.26937911262463443, -1.6386712200549622, -2.0400894484761753, -0.5196503617309747, -0.560229662321502, 1.767161337190874, -1.5058878260447326, -0.4447168259016751, -0.04061008724313997, -1.3770966734036905, -1.9966619421432803, -1.2823044509145831, -0.4350689386019637, -0.7298727108558725, -1.0727761156200346, -0.3409337579659877, -0.689682646211544, 0.5548731664781155, -1.5014137268582113, -0.3724554441846596, -0.7489595490368712, -0.014223259974305735, -0.4539450087213102, -1.9347283131577597, -1.0454576789416758, 0.422103993987208, -1.5723471508864213, -1.1662330129618408, -2.137629265901147]\n"
     ]
    }
   ],
   "source": [
    "c, p = model.evaluate(validation)"
   ]
  },
  {
   "cell_type": "code",
   "execution_count": 84,
   "metadata": {},
   "outputs": [
    {
     "data": {
      "text/plain": [
       "0.755"
      ]
     },
     "execution_count": 84,
     "metadata": {},
     "output_type": "execute_result"
    }
   ],
   "source": [
    "p"
   ]
  },
  {
   "cell_type": "code",
   "execution_count": 130,
   "metadata": {},
   "outputs": [
    {
     "name": "stderr",
     "output_type": "stream",
     "text": [
      "\r",
      "Loading tagged docs into model:   0%|          | 0/100000 [00:00<?, ?it/s]"
     ]
    },
    {
     "ename": "TypeError",
     "evalue": "type object got multiple values for keyword argument 'seed'",
     "output_type": "error",
     "traceback": [
      "\u001b[0;31m---------------------------------------------------------------------------\u001b[0m",
      "\u001b[0;31mTypeError\u001b[0m                                 Traceback (most recent call last)",
      "\u001b[0;32m<ipython-input-130-37fe41bf8977>\u001b[0m in \u001b[0;36m<module>\u001b[0;34m()\u001b[0m\n\u001b[0;32m----> 1\u001b[0;31m \u001b[0mrun_with_args\u001b[0m\u001b[0;34m(\u001b[0m\u001b[0;34m{\u001b[0m\u001b[0;34m'epochs'\u001b[0m\u001b[0;34m:\u001b[0m\u001b[0;36m10\u001b[0m\u001b[0;34m,\u001b[0m \u001b[0;34m'vector_size'\u001b[0m\u001b[0;34m:\u001b[0m\u001b[0;36m150\u001b[0m\u001b[0;34m,\u001b[0m \u001b[0;34m'min_count'\u001b[0m\u001b[0;34m:\u001b[0m\u001b[0;36m3\u001b[0m\u001b[0;34m,\u001b[0m \u001b[0;34m'window'\u001b[0m\u001b[0;34m:\u001b[0m\u001b[0;36m4\u001b[0m\u001b[0;34m}\u001b[0m\u001b[0;34m,\u001b[0m \u001b[0mall_docs\u001b[0m\u001b[0;34m,\u001b[0m \u001b[0mthe_rest\u001b[0m\u001b[0;34m)\u001b[0m\u001b[0;34m\u001b[0m\u001b[0;34m\u001b[0m\u001b[0m\n\u001b[0m",
      "\u001b[0;32m/mnt/c/Users/Anik/Files/Work/units/NLP/assignment2/src/doc2vec.py\u001b[0m in \u001b[0;36mrun_with_args\u001b[0;34m(args, doc2vec_train, pang_svm_train)\u001b[0m\n\u001b[1;32m     83\u001b[0m     \u001b[0mdefaults\u001b[0m\u001b[0;34m.\u001b[0m\u001b[0mupdate\u001b[0m\u001b[0;34m(\u001b[0m\u001b[0margs\u001b[0m\u001b[0;34m)\u001b[0m\u001b[0;34m\u001b[0m\u001b[0;34m\u001b[0m\u001b[0m\n\u001b[1;32m     84\u001b[0m     \u001b[0mmodel\u001b[0m \u001b[0;34m=\u001b[0m \u001b[0mDoc2VecSVM\u001b[0m\u001b[0;34m(\u001b[0m\u001b[0mdoc2vec_args\u001b[0m\u001b[0;34m=\u001b[0m\u001b[0mdefaults\u001b[0m\u001b[0;34m)\u001b[0m\u001b[0;34m\u001b[0m\u001b[0;34m\u001b[0m\u001b[0m\n\u001b[0;32m---> 85\u001b[0;31m     \u001b[0mmodel\u001b[0m\u001b[0;34m.\u001b[0m\u001b[0mtrain\u001b[0m\u001b[0;34m(\u001b[0m\u001b[0mpang_svm_train\u001b[0m\u001b[0;34m,\u001b[0m \u001b[0mdoc2vec_train\u001b[0m\u001b[0;34m)\u001b[0m\u001b[0;34m\u001b[0m\u001b[0;34m\u001b[0m\u001b[0m\n\u001b[0m\u001b[1;32m     86\u001b[0m     \u001b[0mc\u001b[0m\u001b[0;34m,\u001b[0m \u001b[0mp\u001b[0m \u001b[0;34m=\u001b[0m \u001b[0mmodel\u001b[0m\u001b[0;34m.\u001b[0m\u001b[0mevaluate\u001b[0m\u001b[0;34m(\u001b[0m\u001b[0mvalidation\u001b[0m\u001b[0;34m)\u001b[0m\u001b[0;34m\u001b[0m\u001b[0;34m\u001b[0m\u001b[0m\n\u001b[1;32m     87\u001b[0m     \u001b[0;32mprint\u001b[0m\u001b[0;34m(\u001b[0m\u001b[0margs\u001b[0m\u001b[0;34m,\u001b[0m \u001b[0mp\u001b[0m\u001b[0;34m)\u001b[0m\u001b[0;34m\u001b[0m\u001b[0;34m\u001b[0m\u001b[0m\n",
      "\u001b[0;32m/mnt/c/Users/Anik/Files/Work/units/NLP/assignment2/src/doc2vec.py\u001b[0m in \u001b[0;36mtrain\u001b[0;34m(self, svm_train_docs, doc2vec_train_docs)\u001b[0m\n\u001b[1;32m     58\u001b[0m \u001b[0;34m\u001b[0m\u001b[0m\n\u001b[1;32m     59\u001b[0m     \u001b[0;32mdef\u001b[0m \u001b[0mtrain\u001b[0m\u001b[0;34m(\u001b[0m\u001b[0mself\u001b[0m\u001b[0;34m,\u001b[0m \u001b[0msvm_train_docs\u001b[0m\u001b[0;34m,\u001b[0m \u001b[0mdoc2vec_train_docs\u001b[0m\u001b[0;34m)\u001b[0m\u001b[0;34m:\u001b[0m\u001b[0;34m\u001b[0m\u001b[0;34m\u001b[0m\u001b[0m\n\u001b[0;32m---> 60\u001b[0;31m         \u001b[0mself\u001b[0m\u001b[0;34m.\u001b[0m\u001b[0mtrain_doc_vec\u001b[0m\u001b[0;34m(\u001b[0m\u001b[0mdoc2vec_train_docs\u001b[0m\u001b[0;34m)\u001b[0m\u001b[0;34m\u001b[0m\u001b[0;34m\u001b[0m\u001b[0m\n\u001b[0m\u001b[1;32m     61\u001b[0m         \u001b[0;32mprint\u001b[0m\u001b[0;34m(\u001b[0m\u001b[0;34m\"*** DOC2VEC TRAINED ***\"\u001b[0m\u001b[0;34m)\u001b[0m\u001b[0;34m\u001b[0m\u001b[0;34m\u001b[0m\u001b[0m\n\u001b[1;32m     62\u001b[0m         \u001b[0mself\u001b[0m\u001b[0;34m.\u001b[0m\u001b[0mtrain_svm\u001b[0m\u001b[0;34m(\u001b[0m\u001b[0msvm_train_docs\u001b[0m\u001b[0;34m)\u001b[0m\u001b[0;34m\u001b[0m\u001b[0;34m\u001b[0m\u001b[0m\n",
      "\u001b[0;32m/mnt/c/Users/Anik/Files/Work/units/NLP/assignment2/src/doc2vec.py\u001b[0m in \u001b[0;36mtrain_doc_vec\u001b[0;34m(self, docs)\u001b[0m\n\u001b[1;32m     35\u001b[0m             docs)], desc=\"Loading tagged docs into model\")\n\u001b[1;32m     36\u001b[0m         model = Doc2Vec(documents, vector_size=100, window=2,\n\u001b[0;32m---> 37\u001b[0;31m                         min_count=1, workers=4, seed=0, callbacks=[EpochLogger()], **self.doc2vec_args)\n\u001b[0m\u001b[1;32m     38\u001b[0m         model.delete_temporary_training_data(\n\u001b[1;32m     39\u001b[0m             keep_doctags_vectors=True, keep_inference=True)\n",
      "\u001b[0;31mTypeError\u001b[0m: type object got multiple values for keyword argument 'seed'"
     ]
    }
   ],
   "source": [
    "run_with_args({'epochs':10, 'vector_size':150, 'min_count':3, 'window':4}, all_docs, the_rest)"
   ]
  },
  {
   "cell_type": "code",
   "execution_count": 133,
   "metadata": {},
   "outputs": [],
   "source": [
    "%autoreload\n",
    "from src.load_files import *\n",
    "from src.doc2vec import *\n",
    "from src.permutation_test import *"
   ]
  },
  {
   "cell_type": "code",
   "execution_count": null,
   "metadata": {},
   "outputs": [
    {
     "name": "stdout",
     "output_type": "stream",
     "text": [
      "{'epochs': 10, 'workers': 4, 'vector_size': 150, 'window': 4, 'seed': 0, 'min_count': 3}\n"
     ]
    },
    {
     "name": "stderr",
     "output_type": "stream",
     "text": [
      "\n",
      "\n",
      "Loading tagged docs into model:   0%|          | 0/100000 [00:00<?, ?it/s]\u001b[A\u001b[A\n",
      "\n",
      "Loading tagged docs into model:   2%|▏         | 2003/100000 [00:00<00:04, 20027.63it/s]\u001b[A\u001b[A\n",
      "\n",
      "Loading tagged docs into model:   4%|▍         | 3874/100000 [00:00<00:04, 19603.52it/s]\u001b[A\u001b[A\n",
      "\n",
      "Loading tagged docs into model:   5%|▌         | 5186/100000 [00:00<00:05, 17066.11it/s]\u001b[A\u001b[A\n",
      "\n",
      "Loading tagged docs into model:   7%|▋         | 7054/100000 [00:00<00:05, 17516.81it/s]\u001b[A\u001b[A\n",
      "\n",
      "Loading tagged docs into model:   9%|▉         | 8835/100000 [00:00<00:05, 17603.74it/s]\u001b[A\u001b[A\n",
      "\n",
      "Loading tagged docs into model:  11%|█         | 10687/100000 [00:00<00:05, 17862.18it/s]\u001b[A\u001b[A\n",
      "\n",
      "Loading tagged docs into model:  12%|█▏        | 12326/100000 [00:00<00:06, 13055.24it/s]\u001b[A\u001b[A\n",
      "\n",
      "Loading tagged docs into model:  15%|█▍        | 14624/100000 [00:00<00:05, 14998.37it/s]\u001b[A\u001b[A\n",
      "\n",
      "Loading tagged docs into model:  16%|█▋        | 16445/100000 [00:01<00:05, 15835.40it/s]\u001b[A\u001b[A\n",
      "\n",
      "Loading tagged docs into model:  19%|█▊        | 18574/100000 [00:01<00:04, 17153.25it/s]\u001b[A\u001b[A\n",
      "\n",
      "Loading tagged docs into model:  21%|██        | 20596/100000 [00:01<00:04, 17969.22it/s]\u001b[A\u001b[A\n",
      "\n",
      "Loading tagged docs into model:  23%|██▎       | 23005/100000 [00:01<00:03, 19451.45it/s]\u001b[A\u001b[A\n",
      "\n",
      "Loading tagged docs into model:  25%|██▌       | 25385/100000 [00:01<00:03, 20563.69it/s]\u001b[A\u001b[A\n",
      "\n",
      "Loading tagged docs into model:  28%|██▊       | 27889/100000 [00:01<00:03, 21720.08it/s]\u001b[A\u001b[A\n",
      "\n",
      "Loading tagged docs into model:  30%|███       | 30147/100000 [00:01<00:03, 21969.96it/s]\u001b[A\u001b[A\n",
      "\n",
      "Loading tagged docs into model:  32%|███▏      | 32398/100000 [00:01<00:03, 21319.33it/s]\u001b[A\u001b[A\n",
      "\n",
      "Loading tagged docs into model:  35%|███▍      | 34572/100000 [00:01<00:03, 17945.85it/s]\u001b[A\u001b[A\n",
      "\n",
      "Loading tagged docs into model:  36%|███▋      | 36487/100000 [00:02<00:03, 16665.33it/s]\u001b[A\u001b[A\n",
      "\n",
      "Loading tagged docs into model:  38%|███▊      | 38256/100000 [00:02<00:04, 15381.15it/s]\u001b[A\u001b[A\n",
      "\n",
      "Loading tagged docs into model:  40%|███▉      | 39886/100000 [00:02<00:04, 13707.82it/s]\u001b[A\u001b[A\n",
      "\n",
      "Loading tagged docs into model:  42%|████▏     | 41821/100000 [00:02<00:03, 15019.35it/s]\u001b[A\u001b[A\n",
      "\n",
      "Loading tagged docs into model:  44%|████▎     | 43552/100000 [00:02<00:03, 15626.06it/s]\u001b[A\u001b[A\n",
      "\n",
      "Loading tagged docs into model:  45%|████▌     | 45196/100000 [00:02<00:03, 15651.10it/s]\u001b[A\u001b[A\n",
      "\n",
      "Loading tagged docs into model:  47%|████▋     | 46818/100000 [00:02<00:03, 15572.62it/s]\u001b[A\u001b[A\n",
      "\n",
      "Loading tagged docs into model:  48%|████▊     | 48475/100000 [00:02<00:03, 15855.68it/s]\u001b[A\u001b[A\n",
      "\n",
      "Loading tagged docs into model:  50%|█████     | 50090/100000 [00:02<00:03, 15560.28it/s]\u001b[A\u001b[A\n",
      "\n",
      "Loading tagged docs into model:  52%|█████▏    | 51668/100000 [00:03<00:03, 15149.55it/s]\u001b[A\u001b[A\n",
      "\n",
      "Loading tagged docs into model:  53%|█████▎    | 53201/100000 [00:03<00:03, 13151.71it/s]\u001b[A\u001b[A\n",
      "\n",
      "Loading tagged docs into model:  55%|█████▍    | 54576/100000 [00:03<00:04, 11276.58it/s]\u001b[A\u001b[A\n",
      "\n",
      "Loading tagged docs into model:  56%|█████▌    | 55949/100000 [00:03<00:03, 11915.20it/s]\u001b[A\u001b[A\n",
      "\n",
      "Loading tagged docs into model:  57%|█████▋    | 57249/100000 [00:03<00:03, 12214.71it/s]\u001b[A\u001b[A\n",
      "\n",
      "Loading tagged docs into model:  59%|█████▊    | 58523/100000 [00:03<00:03, 11813.17it/s]\u001b[A\u001b[A\n",
      "\n",
      "Loading tagged docs into model:  60%|█████▉    | 59834/100000 [00:03<00:03, 12173.57it/s]\u001b[A\u001b[A\n",
      "\n",
      "Loading tagged docs into model:  62%|██████▏   | 61509/100000 [00:03<00:02, 13260.22it/s]\u001b[A\u001b[A\n",
      "\n",
      "Loading tagged docs into model:  63%|██████▎   | 62923/100000 [00:03<00:02, 13512.40it/s]\u001b[A\u001b[A\n",
      "\n",
      "Loading tagged docs into model:  64%|██████▍   | 64311/100000 [00:04<00:02, 13261.03it/s]\u001b[A\u001b[A\n",
      "\n",
      "Loading tagged docs into model:  66%|██████▌   | 65761/100000 [00:04<00:02, 13609.26it/s]\u001b[A\u001b[A\n",
      "\n",
      "Loading tagged docs into model:  68%|██████▊   | 67515/100000 [00:04<00:02, 14589.55it/s]\u001b[A\u001b[A\n",
      "\n",
      "Loading tagged docs into model:  69%|██████▉   | 69485/100000 [00:04<00:01, 15813.62it/s]\u001b[A\u001b[A\n",
      "\n",
      "Loading tagged docs into model:  71%|███████▏  | 71257/100000 [00:04<00:01, 16340.44it/s]\u001b[A\u001b[A\n",
      "\n",
      "Loading tagged docs into model:  73%|███████▎  | 72934/100000 [00:04<00:01, 15902.32it/s]\u001b[A\u001b[A\n",
      "\n",
      "Loading tagged docs into model:  75%|███████▍  | 74557/100000 [00:04<00:01, 15372.84it/s]\u001b[A\u001b[A\n",
      "\n",
      "Loading tagged docs into model:  76%|███████▋  | 76455/100000 [00:04<00:01, 16301.32it/s]\u001b[A\u001b[A\n",
      "\n",
      "Loading tagged docs into model:  79%|███████▊  | 78564/100000 [00:04<00:01, 17492.59it/s]\u001b[A\u001b[A\n",
      "\n",
      "Loading tagged docs into model:  80%|████████  | 80362/100000 [00:05<00:01, 17037.64it/s]\u001b[A\u001b[A\n",
      "\n",
      "Loading tagged docs into model:  82%|████████▏ | 82102/100000 [00:05<00:01, 16444.43it/s]\u001b[A\u001b[A\n",
      "\n",
      "Loading tagged docs into model:  84%|████████▍ | 83777/100000 [00:05<00:01, 16198.27it/s]\u001b[A\u001b[A\n",
      "\n",
      "Loading tagged docs into model:  85%|████████▌ | 85419/100000 [00:05<00:00, 15912.18it/s]\u001b[A\u001b[A\n",
      "\n",
      "Loading tagged docs into model:  87%|████████▋ | 87258/100000 [00:05<00:00, 16581.83it/s]\u001b[A\u001b[A\n",
      "\n",
      "Loading tagged docs into model:  89%|████████▉ | 89484/100000 [00:05<00:00, 17955.62it/s]\u001b[A\u001b[A\n",
      "\n",
      "Loading tagged docs into model:  91%|█████████▏| 91326/100000 [00:05<00:00, 17784.93it/s]\u001b[A\u001b[A\n",
      "\n",
      "Loading tagged docs into model:  93%|█████████▎| 93138/100000 [00:05<00:00, 17564.30it/s]\u001b[A\u001b[A\n",
      "\n",
      "Loading tagged docs into model:  95%|█████████▌| 95454/100000 [00:05<00:00, 18935.94it/s]\u001b[A\u001b[A\n",
      "\n",
      "Loading tagged docs into model:  97%|█████████▋| 97395/100000 [00:06<00:00, 16182.65it/s]\u001b[A\u001b[A\n",
      "\n",
      "Loading tagged docs into model: 100%|██████████| 100000/100000 [00:06<00:00, 16315.10it/s][A\u001b[A\n"
     ]
    },
    {
     "name": "stdout",
     "output_type": "stream",
     "text": [
      "Epoch #0 start\n",
      "Epoch #0 end\n",
      "Epoch #1 start\n",
      "Epoch #1 end\n",
      "Epoch #2 start\n",
      "Epoch #2 end\n",
      "Epoch #3 start\n",
      "Epoch #3 end\n",
      "Epoch #4 start\n",
      "Epoch #4 end\n",
      "Epoch #5 start\n",
      "Epoch #5 end\n",
      "Epoch #6 start\n",
      "Epoch #6 end\n",
      "Epoch #7 start\n",
      "Epoch #7 end\n",
      "Epoch #8 start\n"
     ]
    }
   ],
   "source": [
    "run_with_args({'epochs':10, 'vector_size':150, 'min_count':3, 'window':4}, all_docs, the_rest)"
   ]
  },
  {
   "cell_type": "code",
   "execution_count": null,
   "metadata": {},
   "outputs": [],
   "source": [
    "run_with_args({'epochs':8, 'vector_size':120, 'min_count':2, 'window':7}, all_docs, the_rest)"
   ]
  },
  {
   "cell_type": "code",
   "execution_count": null,
   "metadata": {},
   "outputs": [],
   "source": []
  }
 ],
 "metadata": {
  "kernelspec": {
   "display_name": "Python 3",
   "language": "python",
   "name": "python3"
  }
 },
 "nbformat": 4,
 "nbformat_minor": 2
}
