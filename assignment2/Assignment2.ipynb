{
 "cells": [
  {
   "cell_type": "code",
   "execution_count": 1,
   "metadata": {},
   "outputs": [],
   "source": [
    "%load_ext autoreload\n",
    "%autoreload 2"
   ]
  },
  {
   "cell_type": "code",
   "execution_count": 17,
   "metadata": {},
   "outputs": [],
   "source": [
    "from src.load_files import *\n",
    "from src.doc2vec import *\n",
    "from src.permutation_test import *\n",
    "from tqdm import tqdm\n",
    "from src.cross_validate import *"
   ]
  },
  {
   "cell_type": "code",
   "execution_count": 19,
   "metadata": {
    "scrolled": false
   },
   "outputs": [
    {
     "name": "stderr",
     "output_type": "stream",
     "text": [
      "Loading files from NEG: 100%|██████████| 1000/1000 [00:01<00:00, 760.57it/s]\n",
      "Loading files from POS: 100%|██████████| 1000/1000 [00:01<00:00, 682.44it/s]\n",
      "Loading files: 100%|██████████| 100000/100000 [04:02<00:00, 411.82it/s]\n"
     ]
    },
    {
     "name": "stdout",
     "output_type": "stream",
     "text": [
      "*** LOADED DOCUMENTS FOR DOC2VEC ***\n"
     ]
    }
   ],
   "source": [
    "pang_docs = load_all_pang_docs()\n",
    "all_docs = load_all_docs()\n",
    "validation, the_rest = validation_set(pang_docs)\n"
   ]
  },
  {
   "cell_type": "code",
   "execution_count": 4,
   "metadata": {},
   "outputs": [
    {
     "name": "stderr",
     "output_type": "stream",
     "text": [
      "\r",
      "Loading tagged docs into model:   0%|          | 0/100000 [00:00<?, ?it/s]"
     ]
    }
   ],
   "source": [
    "documents = tqdm([TaggedDocument(doc, [i]) for i, doc in enumerate(all_docs)], desc=\"Loading tagged docs into model\")"
   ]
  },
  {
   "cell_type": "code",
   "execution_count": 23,
   "metadata": {},
   "outputs": [
    {
     "name": "stdout",
     "output_type": "stream",
     "text": [
      "Epoch #0 start\n",
      "Epoch #0 end\n",
      "Epoch #1 start\n",
      "Epoch #1 end\n",
      "Epoch #2 start\n",
      "Epoch #2 end\n",
      "Epoch #3 start\n",
      "Epoch #3 end\n",
      "Epoch #4 start\n",
      "Epoch #4 end\n"
     ]
    }
   ],
   "source": [
    "args = {'epochs':10,'window':2, 'min_count':1, 'workers':8, 'seed':0, 'dbow_words':1}\n",
    "extra = {'dm':0,'epochs':5, 'vector_size':120, 'min_count': 15, 'window':7, 'dbow_words': 1, 'hs':1}\n",
    "args.update(extra)\n",
    "\n",
    "                            \n",
    "model = Doc2Vec(documents, callbacks=[EpochLogger()], **args)"
   ]
  },
  {
   "cell_type": "code",
   "execution_count": 24,
   "metadata": {},
   "outputs": [],
   "source": [
    "model.callbacks = []\n",
    "model.save(\"./models/model3\")"
   ]
  },
  {
   "cell_type": "code",
   "execution_count": 25,
   "metadata": {},
   "outputs": [
    {
     "data": {
      "text/plain": [
       "<gensim.models.doc2vec.Doc2Vec at 0x7f44fb88e590>"
      ]
     },
     "execution_count": 25,
     "metadata": {},
     "output_type": "execute_result"
    }
   ],
   "source": [
    "Doc2Vec.load(\"./models/model3\")"
   ]
  },
  {
   "cell_type": "code",
   "execution_count": 26,
   "metadata": {},
   "outputs": [
    {
     "name": "stdout",
     "output_type": "stream",
     "text": [
      "*** SVM TRAINED ***\n",
      "('Split ', 0, ', accuracy: ', 0.8388888888888889)\n",
      "*** SVM TRAINED ***\n",
      "('Split ', 1, ', accuracy: ', 0.9166666666666666)\n",
      "*** SVM TRAINED ***\n",
      "('Split ', 2, ', accuracy: ', 0.8444444444444444)\n",
      "*** SVM TRAINED ***\n",
      "('Split ', 3, ', accuracy: ', 0.8777777777777778)\n",
      "*** SVM TRAINED ***\n",
      "('Split ', 4, ', accuracy: ', 0.8722222222222222)\n",
      "*** SVM TRAINED ***\n",
      "('Split ', 5, ', accuracy: ', 0.8833333333333333)\n",
      "*** SVM TRAINED ***\n",
      "('Split ', 6, ', accuracy: ', 0.8888888888888888)\n",
      "*** SVM TRAINED ***\n",
      "('Split ', 7, ', accuracy: ', 0.8666666666666667)\n",
      "*** SVM TRAINED ***\n",
      "('Split ', 8, ', accuracy: ', 0.9388888888888889)\n",
      "*** SVM TRAINED ***\n",
      "('Split ', 9, ', accuracy: ', 0.8888888888888888)\n",
      "()\n"
     ]
    }
   ],
   "source": [
    "dmodel = Doc2VecSVM(doc2vec_model=\"model3\")\n",
    "p,cs = cross_validate(dmodel, the_rest)"
   ]
  },
  {
   "cell_type": "code",
   "execution_count": 29,
   "metadata": {},
   "outputs": [
    {
     "name": "stderr",
     "output_type": "stream",
     "text": [
      "Loading files from NEG: 100%|██████████| 1000/1000 [00:01<00:00, 821.56it/s]\n",
      "Loading files from POS: 100%|██████████| 1000/1000 [00:01<00:00, 856.65it/s]\n"
     ]
    },
    {
     "name": "stdout",
     "output_type": "stream",
     "text": [
      "('Split ', 0, ', accuracy: ', 0.7555555555555555)\n",
      "('Split ', 1, ', accuracy: ', 0.6722222222222223)\n",
      "('Split ', 2, ', accuracy: ', 0.7277777777777777)\n",
      "('Split ', 3, ', accuracy: ', 0.75)\n",
      "('Split ', 4, ', accuracy: ', 0.6944444444444444)\n",
      "('Split ', 5, ', accuracy: ', 0.7611111111111111)\n",
      "('Split ', 6, ', accuracy: ', 0.7111111111111111)\n",
      "('Split ', 7, ', accuracy: ', 0.7611111111111111)\n",
      "('Split ', 8, ', accuracy: ', 0.7722222222222223)\n",
      "('Split ', 9, ', accuracy: ', 0.7222222222222222)\n",
      "()\n",
      "(0.8816666666666666, 0.7327777777777779)\n"
     ]
    },
    {
     "data": {
      "text/plain": [
       "0.0013997200559888023"
      ]
     },
     "execution_count": 29,
     "metadata": {},
     "output_type": "execute_result"
    }
   ],
   "source": [
    "from src.svm import SVM\n",
    "mo = SVM()\n",
    "pang_docs_ = load_all_pang_docs(presence=False)\n",
    "validation_, the_rest_ = validation_set(pang_docs_)\n",
    "p1,cs1 = cross_validate(mo, the_rest_)\n",
    "print(p,p1)\n",
    "permutation_test(cs,cs1)"
   ]
  },
  {
   "cell_type": "code",
   "execution_count": 47,
   "metadata": {},
   "outputs": [
    {
     "data": {
      "text/plain": [
       "0.8761111111111111"
      ]
     },
     "execution_count": 47,
     "metadata": {},
     "output_type": "execute_result"
    }
   ],
   "source": [
    "p"
   ]
  },
  {
   "cell_type": "code",
   "execution_count": 33,
   "metadata": {},
   "outputs": [
    {
     "name": "stdout",
     "output_type": "stream",
     "text": [
      "*** SVM TRAINED ***\n",
      "('Split ', 0, ', accuracy: ', 0.8666666666666667)\n",
      "*** SVM TRAINED ***\n",
      "('Split ', 1, ', accuracy: ', 0.8833333333333333)\n",
      "*** SVM TRAINED ***\n",
      "('Split ', 2, ', accuracy: ', 0.8444444444444444)\n",
      "*** SVM TRAINED ***\n",
      "('Split ', 3, ', accuracy: ', 0.8333333333333334)\n",
      "*** SVM TRAINED ***\n",
      "('Split ', 4, ', accuracy: ', 0.8833333333333333)\n",
      "*** SVM TRAINED ***\n",
      "('Split ', 5, ', accuracy: ', 0.9166666666666666)\n",
      "*** SVM TRAINED ***\n",
      "('Split ', 6, ', accuracy: ', 0.8888888888888888)\n",
      "*** SVM TRAINED ***\n",
      "('Split ', 7, ', accuracy: ', 0.85)\n",
      "*** SVM TRAINED ***\n",
      "('Split ', 8, ', accuracy: ', 0.9111111111111111)\n",
      "*** SVM TRAINED ***\n",
      "('Split ', 9, ', accuracy: ', 0.8666666666666667)\n",
      "()\n"
     ]
    }
   ],
   "source": [
    "dmodel = Doc2VecSVM(doc2vec_model=\"model_best\")\n",
    "p,cs = cross_validate(dmodel, the_rest)"
   ]
  },
  {
   "cell_type": "code",
   "execution_count": 27,
   "metadata": {},
   "outputs": [
    {
     "data": {
      "text/plain": [
       "0.8816666666666666"
      ]
     },
     "execution_count": 27,
     "metadata": {},
     "output_type": "execute_result"
    }
   ],
   "source": [
    "p"
   ]
  },
  {
   "cell_type": "code",
   "execution_count": 32,
   "metadata": {},
   "outputs": [
    {
     "name": "stderr",
     "output_type": "stream",
     "text": [
      "Loading files from NEG: 100%|██████████| 1000/1000 [00:01<00:00, 791.34it/s]\n",
      "Loading files from POS: 100%|██████████| 1000/1000 [00:01<00:00, 824.65it/s]\n",
      "Loading files from NEG: 100%|██████████| 1000/1000 [00:01<00:00, 791.72it/s]\n",
      "Loading files from POS: 100%|██████████| 1000/1000 [00:01<00:00, 790.51it/s]\n"
     ]
    },
    {
     "name": "stdout",
     "output_type": "stream",
     "text": [
      "('Split ', 0, ', accuracy: ', 0.8666666666666667)\n",
      "('Split ', 1, ', accuracy: ', 0.8722222222222222)\n",
      "('Split ', 2, ', accuracy: ', 0.8833333333333333)\n",
      "('Split ', 3, ', accuracy: ', 0.8722222222222222)\n",
      "('Split ', 4, ', accuracy: ', 0.85)\n",
      "('Split ', 5, ', accuracy: ', 0.8888888888888888)\n",
      "('Split ', 6, ', accuracy: ', 0.8833333333333333)\n",
      "('Split ', 7, ', accuracy: ', 0.8611111111111112)\n",
      "('Split ', 8, ', accuracy: ', 0.8611111111111112)\n",
      "('Split ', 9, ', accuracy: ', 0.8666666666666667)\n",
      "()\n",
      "('Split ', 0, ', accuracy: ', 0.7555555555555555)\n",
      "('Split ', 1, ', accuracy: ', 0.6722222222222223)\n",
      "('Split ', 2, ', accuracy: ', 0.7277777777777777)\n",
      "('Split ', 3, ', accuracy: ', 0.75)\n",
      "('Split ', 4, ', accuracy: ', 0.6944444444444444)\n",
      "('Split ', 5, ', accuracy: ', 0.7611111111111111)\n",
      "('Split ', 6, ', accuracy: ', 0.7111111111111111)\n",
      "('Split ', 7, ', accuracy: ', 0.7611111111111111)\n",
      "('Split ', 8, ', accuracy: ', 0.7722222222222223)\n",
      "('Split ', 9, ', accuracy: ', 0.7222222222222222)\n",
      "()\n"
     ]
    },
    {
     "data": {
      "text/plain": [
       "0.0009998000399920016"
      ]
     },
     "execution_count": 32,
     "metadata": {},
     "output_type": "execute_result"
    }
   ],
   "source": [
    "m1 = SVM()\n",
    "pang_docs_ = load_all_pang_docs(presence=False)\n",
    "pang_docs = load_all_pang_docs(presence=True)\n",
    "\n",
    "validation_, the_rest_ = validation_set(pang_docs)\n",
    "validation, the_rest = validation_set(pang_docs_)\n",
    "\n",
    "p1,csf = cross_validate(mo, the_rest_)\n",
    "p1,csp = cross_validate(mo, the_rest)\n",
    "\n",
    "\n",
    "\n",
    "permutation_test(csp,csf)\n",
    "\n"
   ]
  },
  {
   "cell_type": "code",
   "execution_count": 31,
   "metadata": {},
   "outputs": [
    {
     "data": {
      "text/plain": [
       "1.0"
      ]
     },
     "execution_count": 31,
     "metadata": {},
     "output_type": "execute_result"
    }
   ],
   "source": [
    "permutation_test(csf,csp)\n"
   ]
  },
  {
   "cell_type": "code",
   "execution_count": null,
   "metadata": {},
   "outputs": [],
   "source": []
  }
 ],
 "metadata": {
  "kernelspec": {
   "display_name": "Python 2",
   "language": "python",
   "name": "python2"
  },
  "language_info": {
   "codemirror_mode": {
    "name": "ipython",
    "version": 2
   },
   "file_extension": ".py",
   "mimetype": "text/x-python",
   "name": "python",
   "nbconvert_exporter": "python",
   "pygments_lexer": "ipython2",
   "version": "2.7.15+"
  }
 },
 "nbformat": 4,
 "nbformat_minor": 2
}
