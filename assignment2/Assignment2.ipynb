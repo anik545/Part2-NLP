{
 "cells": [
  {
   "cell_type": "code",
   "execution_count": 1,
   "metadata": {},
   "outputs": [],
   "source": [
    "%load_ext autoreload\n",
    "%autoreload 2"
   ]
  },
  {
   "cell_type": "code",
   "execution_count": 9,
   "metadata": {},
   "outputs": [],
   "source": [
    "from src.load_files import *\n",
    "from src.doc2vec import *\n",
    "from src.permutation_test import *\n",
    "from tqdm import tqdm\n",
    "from src.cross_validate import *\n",
    "from src.svm import *"
   ]
  },
  {
   "cell_type": "code",
   "execution_count": 3,
   "metadata": {
    "scrolled": true
   },
   "outputs": [
    {
     "name": "stderr",
     "output_type": "stream",
     "text": [
      "Loading files from NEG: 100%|██████████| 1000/1000 [00:01<00:00, 823.72it/s]\n",
      "Loading files from POS: 100%|██████████| 1000/1000 [00:01<00:00, 682.32it/s]\n"
     ]
    }
   ],
   "source": [
    "pang_docs = load_all_pang_docs()\n",
    "validation, the_rest = validation_set(pang_docs)\n"
   ]
  },
  {
   "cell_type": "code",
   "execution_count": null,
   "metadata": {},
   "outputs": [],
   "source": [
    "all_docs = load_all_docs()\n"
   ]
  },
  {
   "cell_type": "code",
   "execution_count": 4,
   "metadata": {},
   "outputs": [
    {
     "name": "stderr",
     "output_type": "stream",
     "text": [
      "\r",
      "Loading tagged docs into model:   0%|          | 0/100000 [00:00<?, ?it/s]"
     ]
    }
   ],
   "source": [
    "documents = tqdm([TaggedDocument(doc, [i]) for i, doc in enumerate(all_docs)], desc=\"Loading tagged docs into model\")"
   ]
  },
  {
   "cell_type": "code",
   "execution_count": null,
   "metadata": {},
   "outputs": [],
   "source": [
    "args = {'epochs':5,'vector_size':120, 'window':7, 'min_count':15, 'workers':4, 'seed':0, 'dbow_words':1, 'hs':1}\n",
    "model = Doc2Vec(documents, callbacks=[EpochLogger()], **args)"
   ]
  },
  {
   "cell_type": "code",
   "execution_count": 9,
   "metadata": {},
   "outputs": [],
   "source": [
    "model.save(\"name1\")"
   ]
  },
  {
   "cell_type": "code",
   "execution_count": 10,
   "metadata": {},
   "outputs": [
    {
     "data": {
      "text/plain": [
       "<gensim.models.doc2vec.Doc2Vec at 0x7fbef8ebec50>"
      ]
     },
     "execution_count": 10,
     "metadata": {},
     "output_type": "execute_result"
    }
   ],
   "source": [
    "Doc2Vec.load(\"name1\")"
   ]
  },
  {
   "cell_type": "code",
   "execution_count": 11,
   "metadata": {},
   "outputs": [
    {
     "name": "stderr",
     "output_type": "stream",
     "text": [
      "Loading files from NEG: 100%|██████████| 1000/1000 [00:01<00:00, 760.59it/s]\n",
      "Loading files from POS: 100%|██████████| 1000/1000 [00:01<00:00, 638.21it/s]\n"
     ]
    },
    {
     "name": "stdout",
     "output_type": "stream",
     "text": [
      "('Split ', 0, ', accuracy: ', 0.8666666666666667)\n",
      "('Split ', 1, ', accuracy: ', 0.8722222222222222)\n",
      "('Split ', 2, ', accuracy: ', 0.8833333333333333)\n",
      "('Split ', 3, ', accuracy: ', 0.8722222222222222)\n",
      "('Split ', 4, ', accuracy: ', 0.85)\n",
      "('Split ', 5, ', accuracy: ', 0.8888888888888888)\n",
      "('Split ', 6, ', accuracy: ', 0.8833333333333333)\n",
      "('Split ', 7, ', accuracy: ', 0.8611111111111112)\n",
      "('Split ', 8, ', accuracy: ', 0.8611111111111112)\n",
      "('Split ', 9, ', accuracy: ', 0.8666666666666667)\n",
      "()\n"
     ]
    }
   ],
   "source": [
    "mo = SVM()\n",
    "pang_docs_ = load_all_pang_docs(presence=True)\n",
    "validation_, the_rest_ = validation_set(pang_docs_)\n",
    "p_svmp,cs_svmp = cross_validate(mo, the_rest_)"
   ]
  },
  {
   "cell_type": "code",
   "execution_count": 12,
   "metadata": {},
   "outputs": [
    {
     "name": "stderr",
     "output_type": "stream",
     "text": [
      "Loading files from NEG: 100%|██████████| 1000/1000 [00:01<00:00, 732.73it/s]\n",
      "Loading files from POS: 100%|██████████| 1000/1000 [00:01<00:00, 790.24it/s]\n"
     ]
    },
    {
     "name": "stdout",
     "output_type": "stream",
     "text": [
      "('Split ', 0, ', accuracy: ', 0.7555555555555555)\n",
      "('Split ', 1, ', accuracy: ', 0.6722222222222223)\n",
      "('Split ', 2, ', accuracy: ', 0.7277777777777777)\n",
      "('Split ', 3, ', accuracy: ', 0.75)\n",
      "('Split ', 4, ', accuracy: ', 0.6944444444444444)\n",
      "('Split ', 5, ', accuracy: ', 0.7611111111111111)\n",
      "('Split ', 6, ', accuracy: ', 0.7111111111111111)\n",
      "('Split ', 7, ', accuracy: ', 0.7611111111111111)\n",
      "('Split ', 8, ', accuracy: ', 0.7722222222222223)\n",
      "('Split ', 9, ', accuracy: ', 0.7222222222222222)\n",
      "()\n"
     ]
    }
   ],
   "source": [
    "mo1 = SVM()\n",
    "pang_docs = load_all_pang_docs(presence=False)\n",
    "validation, the_rest = validation_set(pang_docs)\n",
    "p_svmf,cs_svmf = cross_validate(mo1, the_rest)"
   ]
  },
  {
   "cell_type": "code",
   "execution_count": 16,
   "metadata": {},
   "outputs": [],
   "source": [
    "model = Doc2VecSVM(doc2vec_model=\"name1\")"
   ]
  },
  {
   "cell_type": "code",
   "execution_count": 18,
   "metadata": {},
   "outputs": [
    {
     "name": "stdout",
     "output_type": "stream",
     "text": [
      "*** SVM TRAINED ***\n",
      "('Split ', 0, ', accuracy: ', 0.8666666666666667)\n",
      "*** SVM TRAINED ***\n",
      "('Split ', 1, ', accuracy: ', 0.8833333333333333)\n",
      "*** SVM TRAINED ***\n",
      "('Split ', 2, ', accuracy: ', 0.8888888888888888)\n",
      "*** SVM TRAINED ***\n",
      "('Split ', 3, ', accuracy: ', 0.8666666666666667)\n",
      "*** SVM TRAINED ***\n",
      "('Split ', 4, ', accuracy: ', 0.8444444444444444)\n",
      "*** SVM TRAINED ***\n",
      "('Split ', 5, ', accuracy: ', 0.8944444444444445)\n",
      "*** SVM TRAINED ***\n",
      "('Split ', 6, ', accuracy: ', 0.9055555555555556)\n",
      "*** SVM TRAINED ***\n",
      "('Split ', 7, ', accuracy: ', 0.8888888888888888)\n",
      "*** SVM TRAINED ***\n",
      "('Split ', 8, ', accuracy: ', 0.8888888888888888)\n",
      "*** SVM TRAINED ***\n",
      "('Split ', 9, ', accuracy: ', 0.8888888888888888)\n",
      "()\n"
     ]
    }
   ],
   "source": [
    "p_d2v,cs_d2v = cross_validate(model, the_rest)"
   ]
  },
  {
   "cell_type": "code",
   "execution_count": 19,
   "metadata": {},
   "outputs": [
    {
     "data": {
      "text/plain": [
       "10"
      ]
     },
     "execution_count": 19,
     "metadata": {},
     "output_type": "execute_result"
    }
   ],
   "source": [
    "len(cs_svmp)"
   ]
  },
  {
   "cell_type": "code",
   "execution_count": 20,
   "metadata": {},
   "outputs": [],
   "source": [
    "def flatten(l):\n",
    "    return [x for b in l for x in b]"
   ]
  },
  {
   "cell_type": "code",
   "execution_count": 33,
   "metadata": {},
   "outputs": [
    {
     "data": {
      "text/plain": [
       "0.0003999200159968006"
      ]
     },
     "execution_count": 33,
     "metadata": {},
     "output_type": "execute_result"
    }
   ],
   "source": [
    "permutation_test(cs_svmp,cs_svmf)"
   ]
  },
  {
   "cell_type": "code",
   "execution_count": 32,
   "metadata": {},
   "outputs": [
    {
     "data": {
      "text/plain": [
       "0.0013997200559888023"
      ]
     },
     "execution_count": 32,
     "metadata": {},
     "output_type": "execute_result"
    }
   ],
   "source": [
    "permutation_test(cs_d2v,cs_svmf)"
   ]
  },
  {
   "cell_type": "code",
   "execution_count": 31,
   "metadata": {},
   "outputs": [
    {
     "data": {
      "text/plain": [
       "0.021795640871825634"
      ]
     },
     "execution_count": 31,
     "metadata": {},
     "output_type": "execute_result"
    }
   ],
   "source": [
    "permutation_test(cs_d2v,cs_svmp)"
   ]
  },
  {
   "cell_type": "code",
   "execution_count": 26,
   "metadata": {},
   "outputs": [
    {
     "data": {
      "text/plain": [
       "(0.8816666666666666, 0.8705555555555555, 0.7327777777777779)"
      ]
     },
     "execution_count": 26,
     "metadata": {},
     "output_type": "execute_result"
    }
   ],
   "source": [
    "(p_d2v, p_svmp, p_svmf)"
   ]
  },
  {
   "cell_type": "code",
   "execution_count": null,
   "metadata": {},
   "outputs": [],
   "source": []
  }
 ],
 "metadata": {
  "kernelspec": {
   "display_name": "Python 2",
   "language": "python",
   "name": "python2"
  },
  "language_info": {
   "codemirror_mode": {
    "name": "ipython",
    "version": 2
   },
   "file_extension": ".py",
   "mimetype": "text/x-python",
   "name": "python",
   "nbconvert_exporter": "python",
   "pygments_lexer": "ipython2",
   "version": "2.7.15+"
  }
 },
 "nbformat": 4,
 "nbformat_minor": 2
}
