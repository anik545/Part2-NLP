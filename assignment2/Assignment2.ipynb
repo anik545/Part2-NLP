{
 "cells": [
  {
   "cell_type": "code",
   "execution_count": 1,
   "metadata": {},
   "outputs": [],
   "source": [
    "%load_ext autoreload\n",
    "%autoreload 2"
   ]
  },
  {
   "cell_type": "code",
   "execution_count": 32,
   "metadata": {},
   "outputs": [],
   "source": [
    "from src.load_files import *\n",
    "from src.doc2vec import *\n",
    "from src.permutation_test import *\n",
    "from tqdm import tqdm\n",
    "from src.cross_validate import *"
   ]
  },
  {
   "cell_type": "code",
   "execution_count": 3,
   "metadata": {
    "scrolled": false
   },
   "outputs": [
    {
     "name": "stderr",
     "output_type": "stream",
     "text": [
      "Loading files from NEG: 100%|██████████| 1000/1000 [00:01<00:00, 760.30it/s]\n",
      "Loading files from POS: 100%|██████████| 1000/1000 [00:01<00:00, 790.72it/s]\n",
      "Loading files: 100%|██████████| 100000/100000 [00:02<00:00, 46039.86it/s]"
     ]
    },
    {
     "name": "stdout",
     "output_type": "stream",
     "text": [
      "*** LOADED DOCUMENTS FOR DOC2VEC ***\n"
     ]
    },
    {
     "name": "stderr",
     "output_type": "stream",
     "text": [
      "\n"
     ]
    }
   ],
   "source": [
    "pang_docs = load_all_pang_docs()\n",
    "all_docs = load_all_docs()\n",
    "validation, the_rest = validation_set(pang_docs)\n"
   ]
  },
  {
   "cell_type": "code",
   "execution_count": 4,
   "metadata": {},
   "outputs": [
    {
     "name": "stderr",
     "output_type": "stream",
     "text": [
      "\r",
      "Loading tagged docs into model:   0%|          | 0/100000 [00:00<?, ?it/s]"
     ]
    }
   ],
   "source": [
    "documents = tqdm([TaggedDocument(doc, [i]) for i, doc in enumerate(all_docs)], desc=\"Loading tagged docs into model\")"
   ]
  },
  {
   "cell_type": "code",
   "execution_count": 43,
   "metadata": {},
   "outputs": [
    {
     "name": "stdout",
     "output_type": "stream",
     "text": [
      "Epoch #0 start\n",
      "Epoch #0 end\n",
      "Epoch #1 start\n",
      "Epoch #1 end\n",
      "Epoch #2 start\n",
      "Epoch #2 end\n",
      "Epoch #3 start\n",
      "Epoch #3 end\n",
      "Epoch #4 start\n",
      "Epoch #4 end\n",
      "Epoch #5 start\n",
      "Epoch #5 end\n",
      "Epoch #6 start\n",
      "Epoch #6 end\n",
      "Epoch #7 start\n",
      "Epoch #7 end\n"
     ]
    }
   ],
   "source": [
    "args = {'epochs':10,'window':2, 'min_count':1, 'workers':8, 'seed':0, 'dbow_words':1}\n",
    "extra = {'dm':0,'epochs':8, 'vector_size':120, 'min_count': 15, 'window':5, 'dbow_words': 1, 'hs':1}\n",
    "args.update(extra)\n",
    "\n",
    "                            \n",
    "model = Doc2Vec(documents, callbacks=[EpochLogger()], **args)"
   ]
  },
  {
   "cell_type": "code",
   "execution_count": 44,
   "metadata": {},
   "outputs": [],
   "source": [
    "model.callbacks = []\n",
    "model.save(\"./models/model2\")"
   ]
  },
  {
   "cell_type": "code",
   "execution_count": 45,
   "metadata": {},
   "outputs": [
    {
     "data": {
      "text/plain": [
       "<gensim.models.doc2vec.Doc2Vec at 0x7fbec551ca10>"
      ]
     },
     "execution_count": 45,
     "metadata": {},
     "output_type": "execute_result"
    }
   ],
   "source": [
    "Doc2Vec.load(\"./models/model2\")"
   ]
  },
  {
   "cell_type": "code",
   "execution_count": 46,
   "metadata": {},
   "outputs": [
    {
     "name": "stdout",
     "output_type": "stream",
     "text": [
      "*** SVM TRAINED ***\n",
      "('Split ', 0, ', accuracy: ', 0.8388888888888889)\n",
      "*** SVM TRAINED ***\n",
      "('Split ', 1, ', accuracy: ', 0.8944444444444445)\n",
      "*** SVM TRAINED ***\n",
      "('Split ', 2, ', accuracy: ', 0.8888888888888888)\n",
      "*** SVM TRAINED ***\n",
      "('Split ', 3, ', accuracy: ', 0.8444444444444444)\n",
      "*** SVM TRAINED ***\n",
      "('Split ', 4, ', accuracy: ', 0.8555555555555555)\n",
      "*** SVM TRAINED ***\n",
      "('Split ', 5, ', accuracy: ', 0.9055555555555556)\n",
      "*** SVM TRAINED ***\n",
      "('Split ', 6, ', accuracy: ', 0.8944444444444445)\n",
      "*** SVM TRAINED ***\n",
      "('Split ', 7, ', accuracy: ', 0.8833333333333333)\n",
      "*** SVM TRAINED ***\n",
      "('Split ', 8, ', accuracy: ', 0.8888888888888888)\n",
      "*** SVM TRAINED ***\n",
      "('Split ', 9, ', accuracy: ', 0.8666666666666667)\n",
      "()\n"
     ]
    }
   ],
   "source": [
    "dmodel = Doc2VecSVM(doc2vec_model=\"model2\")\n",
    "p,cs = cross_validate(dmodel, the_rest)"
   ]
  },
  {
   "cell_type": "code",
   "execution_count": 29,
   "metadata": {},
   "outputs": [
    {
     "name": "stderr",
     "output_type": "stream",
     "text": [
      "Loading files from NEG: 100%|██████████| 1000/1000 [00:03<00:00, 258.42it/s]\n",
      "Loading files from POS: 100%|██████████| 1000/1000 [00:02<00:00, 459.59it/s]\n"
     ]
    },
    {
     "name": "stdout",
     "output_type": "stream",
     "text": [
      "('Split ', 0, ', accuracy: ', 0.8666666666666667)\n",
      "('Split ', 1, ', accuracy: ', 0.8722222222222222)\n",
      "('Split ', 2, ', accuracy: ', 0.8833333333333333)\n",
      "('Split ', 3, ', accuracy: ', 0.8722222222222222)\n",
      "('Split ', 4, ', accuracy: ', 0.85)\n",
      "('Split ', 5, ', accuracy: ', 0.8888888888888888)\n",
      "('Split ', 6, ', accuracy: ', 0.8833333333333333)\n",
      "('Split ', 7, ', accuracy: ', 0.8611111111111112)\n",
      "('Split ', 8, ', accuracy: ', 0.8611111111111112)\n",
      "('Split ', 9, ', accuracy: ', 0.8666666666666667)\n",
      "()\n",
      "(0.8816666666666666, 0.8705555555555555)\n"
     ]
    },
    {
     "data": {
      "text/plain": [
       "0.01839632073585283"
      ]
     },
     "execution_count": 29,
     "metadata": {},
     "output_type": "execute_result"
    }
   ],
   "source": [
    "mo = SVM()\n",
    "pang_docs_ = load_all_pang_docs(presence=True)\n",
    "validation_, the_rest_ = validation_set(pang_docs_)\n",
    "p1,cs1 = cross_validate(mo, the_rest_)\n",
    "print(p,p1)\n",
    "permutation_test(cs,cs1)"
   ]
  },
  {
   "cell_type": "code",
   "execution_count": 47,
   "metadata": {},
   "outputs": [
    {
     "data": {
      "text/plain": [
       "0.8761111111111111"
      ]
     },
     "execution_count": 47,
     "metadata": {},
     "output_type": "execute_result"
    }
   ],
   "source": [
    "p"
   ]
  },
  {
   "cell_type": "code",
   "execution_count": 33,
   "metadata": {},
   "outputs": [
    {
     "name": "stdout",
     "output_type": "stream",
     "text": [
      "*** SVM TRAINED ***\n",
      "('Split ', 0, ', accuracy: ', 0.8666666666666667)\n",
      "*** SVM TRAINED ***\n",
      "('Split ', 1, ', accuracy: ', 0.8833333333333333)\n",
      "*** SVM TRAINED ***\n",
      "('Split ', 2, ', accuracy: ', 0.8444444444444444)\n",
      "*** SVM TRAINED ***\n",
      "('Split ', 3, ', accuracy: ', 0.8333333333333334)\n",
      "*** SVM TRAINED ***\n",
      "('Split ', 4, ', accuracy: ', 0.8833333333333333)\n",
      "*** SVM TRAINED ***\n",
      "('Split ', 5, ', accuracy: ', 0.9166666666666666)\n",
      "*** SVM TRAINED ***\n",
      "('Split ', 6, ', accuracy: ', 0.8888888888888888)\n",
      "*** SVM TRAINED ***\n",
      "('Split ', 7, ', accuracy: ', 0.85)\n",
      "*** SVM TRAINED ***\n",
      "('Split ', 8, ', accuracy: ', 0.9111111111111111)\n",
      "*** SVM TRAINED ***\n",
      "('Split ', 9, ', accuracy: ', 0.8666666666666667)\n",
      "()\n"
     ]
    }
   ],
   "source": [
    "dmodel = Doc2VecSVM(doc2vec_model=\"model_best\")\n",
    "p,cs = cross_validate(dmodel, the_rest)"
   ]
  },
  {
   "cell_type": "code",
   "execution_count": 35,
   "metadata": {},
   "outputs": [
    {
     "ename": "SyntaxError",
     "evalue": "invalid syntax (<ipython-input-35-c9f16e9e328e>, line 1)",
     "output_type": "error",
     "traceback": [
      "\u001b[0;36m  File \u001b[0;32m\"<ipython-input-35-c9f16e9e328e>\"\u001b[0;36m, line \u001b[0;32m1\u001b[0m\n\u001b[0;31m    \"\"Tokyo Eyes\" tells of a 17 year old Japanese girl who falls in like with a man being hunted by her big bro who is a cop. This lame flick is about 50% filler and 50% talk, talk, and more talk. You'll get to see the less than stellar cast of three as they talk on the bus, talk and play video games, talk and get a haircut, talk and walk and walk and talk, talk on cell phones, hang out and talk, etc. as you read subtitles waiting for something to happen. The thin wisp of a story is not sufficient to support a film with low end production value, a meager cast, and no action, no romance, no sex or nudity, no heavy drama...just incessant yadayadayada'ing. (C-)\"\u001b[0m\n\u001b[0m          ^\u001b[0m\n\u001b[0;31mSyntaxError\u001b[0m\u001b[0;31m:\u001b[0m invalid syntax\n"
     ]
    }
   ],
   "source": []
  },
  {
   "cell_type": "code",
   "execution_count": null,
   "metadata": {},
   "outputs": [],
   "source": []
  }
 ],
 "metadata": {
  "kernelspec": {
   "display_name": "Python 2",
   "language": "python",
   "name": "python2"
  }
 },
 "nbformat": 4,
 "nbformat_minor": 2
}
