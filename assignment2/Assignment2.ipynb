{
 "cells": [
  {
   "cell_type": "code",
   "execution_count": 44,
   "metadata": {},
   "outputs": [
    {
     "name": "stdout",
     "output_type": "stream",
     "text": [
      "The autoreload extension is already loaded. To reload it, use:\n",
      "  %reload_ext autoreload\n"
     ]
    }
   ],
   "source": [
    "%load_ext autoreload\n"
   ]
  },
  {
   "cell_type": "code",
   "execution_count": 110,
   "metadata": {},
   "outputs": [],
   "source": [
    "%autoreload\n",
    "from src.load_files import *\n",
    "from src.doc2vec import *\n",
    "from src.permutation_test import *"
   ]
  },
  {
   "cell_type": "code",
   "execution_count": 46,
   "metadata": {},
   "outputs": [
    {
     "name": "stderr",
     "output_type": "stream",
     "text": [
      "Loading files from NEG: 100%|██████████| 1000/1000 [00:11<00:00, 85.61it/s]\n",
      "Loading files from POS: 100%|██████████| 1000/1000 [00:10<00:00, 93.31it/s]\n",
      "Loading files: 100%|██████████| 100000/100000 [00:06<00:00, 14615.43it/s]\n"
     ]
    },
    {
     "name": "stdout",
     "output_type": "stream",
     "text": [
      "*** LOADED DOCUMENTS FOR DOC2VEC ***\n"
     ]
    }
   ],
   "source": [
    "pang_docs = load_all_pang_docs()\n",
    "all_docs = load_all_docs()\n",
    "validation, the_rest = validation_set(pang_docs)\n"
   ]
  },
  {
   "cell_type": "code",
   "execution_count": 64,
   "metadata": {},
   "outputs": [],
   "source": [
    "model = Doc2VecSVM()\n",
    "# model.train(the_rest, all_docs)\n",
    "model.set_model(\"model_{}\")"
   ]
  },
  {
   "cell_type": "code",
   "execution_count": 65,
   "metadata": {},
   "outputs": [],
   "source": [
    "model.train_svm(the_rest)"
   ]
  },
  {
   "cell_type": "code",
   "execution_count": 81,
   "metadata": {
    "scrolled": true
   },
   "outputs": [
    {
     "name": "stdout",
     "output_type": "stream",
     "text": [
      "[-1.140040364549823, 1.195863852950239, -0.2740547885132033, 1.2345386940796628, 0.08461470140999805, -0.4588442989898079, 2.0333502288281027, 1.0650466528164253, 0.2033505314511288, -0.4626600848453154, 0.007363149173194028, 0.881809588628093, 0.047852042151749985, 1.1998748782556108, 1.3717390312960092, 1.1009464584755315, 2.639173566987273, 0.013630539635050343, 0.08297821182651433, 1.0366759502122989, 0.6837265784503292, 0.9697697455913235, 2.058872045379598, -1.575900427188385, 1.7962958922659031, 2.5229789494918156, 0.6617139778838868, -0.7554665316103611, -0.24537104316832692, 2.1969043517765687, 0.6740319120907674, 0.9876135877310528, 1.0397248957925163, -1.521024054931886, -0.5209490315930155, -0.5335333252560077, 1.1628521391233733, -0.48455943003848145, 0.14555569083720243, 0.448740677858817, -0.6612928837019945, 0.1080430380161268, -1.0784209026074862, -0.4495519873705579, 3.1150913291815514, 0.505030391579125, -0.4352548594569248, 3.4912765507685957, 0.04425633607493529, 1.2509921123293588, 0.0900925485551245, 1.4540401795736377, 1.3936359201543302, 2.104412291563435, 2.224615193310117, -1.2766803410341558, 2.7717781856636243, -0.12392171158122345, -0.6269851090100176, -1.128455313055064, 4.011569920049778, 0.21712280066421963, 1.4935425584397755, 1.3470347362127906, -0.045460436858080766, 1.4850859551004092, 0.4763779025179611, -0.23780316589196904, 1.7034969225622936, 0.18164133276783923, 0.30910028905232245, 0.37745107982439796, -0.27529835662759405, 0.36330518167376225, 0.7173888808120785, 2.152083493975511, 0.3895513439802476, 1.345247967422643, 2.2080639169191962, -1.1428316838862753, 2.288909694369156, 0.3376617278234506, 0.06402777088128608, 2.4744406096103093, -0.28368188221485613, 0.9311228703110201, 1.237391300695304, 0.7545188313330098, 1.8110353386798224, -0.3277551933443559, 0.8252735284954817, 1.860837569768206, -1.6289620111270078, 2.8178571229796927, -0.029622450023448765, 0.08101257896951009, 0.3982508248189687, -1.4943454128449352, 0.08410144666160979, -0.39713278998351137, -1.2378405519682238, -0.433991174784422, -1.1686629850983934, -0.1711388936721343, -1.3327043352252987, -0.7286375699933662, 0.8246320031309442, -0.687749739064132, 0.529357681136218, 1.5281010182749273, -0.6925695130406329, -1.2034025893775746, 0.7651214196996401, -1.6826535486522263, -1.0967262393588473, -2.3487863471777297, -0.9550949423227387, -0.10439733365620629, -2.213560654019592, 0.6092567473354185, 0.596472018128011, -0.6659914059991827, -0.3276509413667368, -0.8814886423557116, -0.39734961000003455, -0.5789286100508348, 0.121650179784486, -0.577436277755818, -0.9150692830032536, -0.06131994929715123, -2.1456465391713913, -2.264402118853118, -1.9832718993063236, -0.9874083500300601, -1.1957069926772599, -0.7444637049714298, -1.5234423614848205, -0.9393536195035236, -1.049972138825181, -0.43857178776654465, 1.226508942656361, -1.1425547442986583, -1.6046039397090985, -1.013015577066056, -1.3119043129752963, -0.7390824364963664, -1.1020748830470695, -1.279746867779921, 0.6719944943085454, 1.2935528247265164, 0.5392104725675129, -1.238401287643925, -1.9409159158372336, 1.0505970525456192, 0.12689540770798846, -2.1858835220090773, -1.8752153619041914, -0.24405102801412082, 0.9549644327388647, 1.2184194752402746, -0.38711156451918216, -0.5801119406631401, -0.19488141309036777, -0.23947644701460336, -0.6878940111419799, 0.31082749803529985, -1.8027769402913738, -0.9780587853690597, -1.7928879048388504, -2.1417582344296706, 0.13762736292802602, -0.26937911262463443, -1.6386712200549622, -2.0400894484761753, -0.5196503617309747, -0.560229662321502, 1.767161337190874, -1.5058878260447326, -0.4447168259016751, -0.04061008724313997, -1.3770966734036905, -1.9966619421432803, -1.2823044509145831, -0.4350689386019637, -0.7298727108558725, -1.0727761156200346, -0.3409337579659877, -0.689682646211544, 0.5548731664781155, -1.5014137268582113, -0.3724554441846596, -0.7489595490368712, -0.014223259974305735, -0.4539450087213102, -1.9347283131577597, -1.0454576789416758, 0.422103993987208, -1.5723471508864213, -1.1662330129618408, -2.137629265901147]\n"
     ]
    }
   ],
   "source": [
    "c, p = model.evaluate(validation)"
   ]
  },
  {
   "cell_type": "code",
   "execution_count": 84,
   "metadata": {},
   "outputs": [
    {
     "data": {
      "text/plain": [
       "0.755"
      ]
     },
     "execution_count": 84,
     "metadata": {},
     "output_type": "execute_result"
    }
   ],
   "source": [
    "p"
   ]
  },
  {
   "cell_type": "code",
   "execution_count": 130,
   "metadata": {},
   "outputs": [
    {
     "name": "stderr",
     "output_type": "stream",
     "text": [
      "\r",
      "Loading tagged docs into model:   0%|          | 0/100000 [00:00<?, ?it/s]"
     ]
    },
    {
     "ename": "TypeError",
     "evalue": "type object got multiple values for keyword argument 'seed'",
     "output_type": "error",
     "traceback": [
      "\u001b[0;31m---------------------------------------------------------------------------\u001b[0m",
      "\u001b[0;31mTypeError\u001b[0m                                 Traceback (most recent call last)",
      "\u001b[0;32m<ipython-input-130-37fe41bf8977>\u001b[0m in \u001b[0;36m<module>\u001b[0;34m()\u001b[0m\n\u001b[0;32m----> 1\u001b[0;31m \u001b[0mrun_with_args\u001b[0m\u001b[0;34m(\u001b[0m\u001b[0;34m{\u001b[0m\u001b[0;34m'epochs'\u001b[0m\u001b[0;34m:\u001b[0m\u001b[0;36m10\u001b[0m\u001b[0;34m,\u001b[0m \u001b[0;34m'vector_size'\u001b[0m\u001b[0;34m:\u001b[0m\u001b[0;36m150\u001b[0m\u001b[0;34m,\u001b[0m \u001b[0;34m'min_count'\u001b[0m\u001b[0;34m:\u001b[0m\u001b[0;36m3\u001b[0m\u001b[0;34m,\u001b[0m \u001b[0;34m'window'\u001b[0m\u001b[0;34m:\u001b[0m\u001b[0;36m4\u001b[0m\u001b[0;34m}\u001b[0m\u001b[0;34m,\u001b[0m \u001b[0mall_docs\u001b[0m\u001b[0;34m,\u001b[0m \u001b[0mthe_rest\u001b[0m\u001b[0;34m)\u001b[0m\u001b[0;34m\u001b[0m\u001b[0;34m\u001b[0m\u001b[0m\n\u001b[0m",
      "\u001b[0;32m/mnt/c/Users/Anik/Files/Work/units/NLP/assignment2/src/doc2vec.py\u001b[0m in \u001b[0;36mrun_with_args\u001b[0;34m(args, doc2vec_train, pang_svm_train)\u001b[0m\n\u001b[1;32m     83\u001b[0m     \u001b[0mdefaults\u001b[0m\u001b[0;34m.\u001b[0m\u001b[0mupdate\u001b[0m\u001b[0;34m(\u001b[0m\u001b[0margs\u001b[0m\u001b[0;34m)\u001b[0m\u001b[0;34m\u001b[0m\u001b[0;34m\u001b[0m\u001b[0m\n\u001b[1;32m     84\u001b[0m     \u001b[0mmodel\u001b[0m \u001b[0;34m=\u001b[0m \u001b[0mDoc2VecSVM\u001b[0m\u001b[0;34m(\u001b[0m\u001b[0mdoc2vec_args\u001b[0m\u001b[0;34m=\u001b[0m\u001b[0mdefaults\u001b[0m\u001b[0;34m)\u001b[0m\u001b[0;34m\u001b[0m\u001b[0;34m\u001b[0m\u001b[0m\n\u001b[0;32m---> 85\u001b[0;31m     \u001b[0mmodel\u001b[0m\u001b[0;34m.\u001b[0m\u001b[0mtrain\u001b[0m\u001b[0;34m(\u001b[0m\u001b[0mpang_svm_train\u001b[0m\u001b[0;34m,\u001b[0m \u001b[0mdoc2vec_train\u001b[0m\u001b[0;34m)\u001b[0m\u001b[0;34m\u001b[0m\u001b[0;34m\u001b[0m\u001b[0m\n\u001b[0m\u001b[1;32m     86\u001b[0m     \u001b[0mc\u001b[0m\u001b[0;34m,\u001b[0m \u001b[0mp\u001b[0m \u001b[0;34m=\u001b[0m \u001b[0mmodel\u001b[0m\u001b[0;34m.\u001b[0m\u001b[0mevaluate\u001b[0m\u001b[0;34m(\u001b[0m\u001b[0mvalidation\u001b[0m\u001b[0;34m)\u001b[0m\u001b[0;34m\u001b[0m\u001b[0;34m\u001b[0m\u001b[0m\n\u001b[1;32m     87\u001b[0m     \u001b[0;32mprint\u001b[0m\u001b[0;34m(\u001b[0m\u001b[0margs\u001b[0m\u001b[0;34m,\u001b[0m \u001b[0mp\u001b[0m\u001b[0;34m)\u001b[0m\u001b[0;34m\u001b[0m\u001b[0;34m\u001b[0m\u001b[0m\n",
      "\u001b[0;32m/mnt/c/Users/Anik/Files/Work/units/NLP/assignment2/src/doc2vec.py\u001b[0m in \u001b[0;36mtrain\u001b[0;34m(self, svm_train_docs, doc2vec_train_docs)\u001b[0m\n\u001b[1;32m     58\u001b[0m \u001b[0;34m\u001b[0m\u001b[0m\n\u001b[1;32m     59\u001b[0m     \u001b[0;32mdef\u001b[0m \u001b[0mtrain\u001b[0m\u001b[0;34m(\u001b[0m\u001b[0mself\u001b[0m\u001b[0;34m,\u001b[0m \u001b[0msvm_train_docs\u001b[0m\u001b[0;34m,\u001b[0m \u001b[0mdoc2vec_train_docs\u001b[0m\u001b[0;34m)\u001b[0m\u001b[0;34m:\u001b[0m\u001b[0;34m\u001b[0m\u001b[0;34m\u001b[0m\u001b[0m\n\u001b[0;32m---> 60\u001b[0;31m         \u001b[0mself\u001b[0m\u001b[0;34m.\u001b[0m\u001b[0mtrain_doc_vec\u001b[0m\u001b[0;34m(\u001b[0m\u001b[0mdoc2vec_train_docs\u001b[0m\u001b[0;34m)\u001b[0m\u001b[0;34m\u001b[0m\u001b[0;34m\u001b[0m\u001b[0m\n\u001b[0m\u001b[1;32m     61\u001b[0m         \u001b[0;32mprint\u001b[0m\u001b[0;34m(\u001b[0m\u001b[0;34m\"*** DOC2VEC TRAINED ***\"\u001b[0m\u001b[0;34m)\u001b[0m\u001b[0;34m\u001b[0m\u001b[0;34m\u001b[0m\u001b[0m\n\u001b[1;32m     62\u001b[0m         \u001b[0mself\u001b[0m\u001b[0;34m.\u001b[0m\u001b[0mtrain_svm\u001b[0m\u001b[0;34m(\u001b[0m\u001b[0msvm_train_docs\u001b[0m\u001b[0;34m)\u001b[0m\u001b[0;34m\u001b[0m\u001b[0;34m\u001b[0m\u001b[0m\n",
      "\u001b[0;32m/mnt/c/Users/Anik/Files/Work/units/NLP/assignment2/src/doc2vec.py\u001b[0m in \u001b[0;36mtrain_doc_vec\u001b[0;34m(self, docs)\u001b[0m\n\u001b[1;32m     35\u001b[0m             docs)], desc=\"Loading tagged docs into model\")\n\u001b[1;32m     36\u001b[0m         model = Doc2Vec(documents, vector_size=100, window=2,\n\u001b[0;32m---> 37\u001b[0;31m                         min_count=1, workers=4, seed=0, callbacks=[EpochLogger()], **self.doc2vec_args)\n\u001b[0m\u001b[1;32m     38\u001b[0m         model.delete_temporary_training_data(\n\u001b[1;32m     39\u001b[0m             keep_doctags_vectors=True, keep_inference=True)\n",
      "\u001b[0;31mTypeError\u001b[0m: type object got multiple values for keyword argument 'seed'"
     ]
    }
   ],
   "source": [
    "run_with_args({'epochs':10, 'vector_size':150, 'min_count':3, 'window':4}, all_docs, the_rest)"
   ]
  },
  {
   "cell_type": "code",
   "execution_count": 144,
   "metadata": {},
   "outputs": [],
   "source": [
    "%autoreload\n",
    "from src.load_files import *\n",
    "from src.doc2vec import *\n",
    "from src.permutation_test import *"
   ]
  },
  {
   "cell_type": "code",
   "execution_count": 141,
   "metadata": {
    "scrolled": true
   },
   "outputs": [
    {
     "data": {
      "application/vnd.jupyter.widget-view+json": {
       "model_id": "6a51c6d501564ed6acfd8de8d433e2a4",
       "version_major": 2,
       "version_minor": 0
      },
      "text/plain": [
       "SEJveChjaGlsZHJlbj0oSW50UHJvZ3Jlc3ModmFsdWU9MCwgZGVzY3JpcHRpb249dSdMb2FkaW5nIGZpbGVzIGZyb20gTkVHJywgbWF4PTEwMDAsIHN0eWxlPVByb2dyZXNzU3R5bGUoZGVzY3LigKY=\n"
      ]
     },
     "metadata": {},
     "output_type": "display_data"
    },
    {
     "name": "stdout",
     "output_type": "stream",
     "text": [
      "\n"
     ]
    },
    {
     "data": {
      "application/vnd.jupyter.widget-view+json": {
       "model_id": "0cc70eb3ff534fbfa2b24bb5086d13db",
       "version_major": 2,
       "version_minor": 0
      },
      "text/plain": [
       "SEJveChjaGlsZHJlbj0oSW50UHJvZ3Jlc3ModmFsdWU9MCwgZGVzY3JpcHRpb249dSdMb2FkaW5nIGZpbGVzIGZyb20gUE9TJywgbWF4PTEwMDAsIHN0eWxlPVByb2dyZXNzU3R5bGUoZGVzY3LigKY=\n"
      ]
     },
     "metadata": {},
     "output_type": "display_data"
    },
    {
     "name": "stdout",
     "output_type": "stream",
     "text": [
      "\n"
     ]
    },
    {
     "data": {
      "application/vnd.jupyter.widget-view+json": {
       "model_id": "1068de042cb940bca5ae2f014fbd7cf8",
       "version_major": 2,
       "version_minor": 0
      },
      "text/plain": [
       "SEJveChjaGlsZHJlbj0oSW50UHJvZ3Jlc3ModmFsdWU9MCwgZGVzY3JpcHRpb249dSdMb2FkaW5nIGZpbGVzJywgbWF4PTEwMDAwMCwgc3R5bGU9UHJvZ3Jlc3NTdHlsZShkZXNjcmlwdGlvbl/igKY=\n"
      ]
     },
     "metadata": {},
     "output_type": "display_data"
    },
    {
     "name": "stdout",
     "output_type": "stream",
     "text": [
      "\n",
      "*** LOADED DOCUMENTS FOR DOC2VEC ***\n"
     ]
    }
   ],
   "source": [
    "pang_docs = load_all_pang_docs()\n",
    "all_docs = load_all_docs()\n",
    "validation, the_rest = validation_set(pang_docs)"
   ]
  },
  {
   "cell_type": "code",
   "execution_count": 142,
   "metadata": {
    "scrolled": false
   },
   "outputs": [
    {
     "name": "stdout",
     "output_type": "stream",
     "text": [
      "{'epochs': 1, 'workers': 4, 'vector_size': 150, 'window': 4, 'seed': 0, 'min_count': 3}\n"
     ]
    },
    {
     "data": {
      "application/vnd.jupyter.widget-view+json": {
       "model_id": "f0a91279bf1744999653458c17d8375a",
       "version_major": 2,
       "version_minor": 0
      },
      "text/plain": [
       "SEJveChjaGlsZHJlbj0oSW50UHJvZ3Jlc3ModmFsdWU9MCwgZGVzY3JpcHRpb249dSdMb2FkaW5nIHRhZ2dlZCBkb2NzIGludG8gbW9kZWwnLCBtYXg9MTAwMDAwLCBzdHlsZT1Qcm9ncmVzc1PigKY=\n"
      ]
     },
     "metadata": {},
     "output_type": "display_data"
    },
    {
     "name": "stdout",
     "output_type": "stream",
     "text": [
      "\n",
      "Epoch #0 start\n",
      "Epoch #0 end\n",
      "*** DOC2VEC TRAINED ***\n",
      "*** SVM TRAINED ***\n",
      "[-1.3489578749607296, 0.39873851543644234, -0.7455836778391778, 0.034181943253474234, -0.1717400293216393, -0.7984031443882288, 0.917980819784467, 0.2711430546593081, 0.47037689441528596, 0.04047332475476939, 0.23783135682433632, -1.2587896441246946, 0.4313981517167199, -0.036551844609102324, 1.1294477802888998, 1.5778132870747517, 1.8551104401212426, -0.33163105152953265, 0.014684946792875464, 0.4275656802328053, 0.9251577180750545, -0.26166650215594844, 1.2159507517799202, -0.4111262635605286, 0.15694912770837233, 1.2015732814473832, 0.3139797265104398, -0.2909185994254824, -0.6792654381183281, 0.5321971265494965, 1.5101744622127045, 0.8163663951070248, 2.0679767217510125, -1.8991837827061104, -0.3294671422013053, -0.05306635056671072, 0.2880363636545309, -1.5193708021710257, -0.010700088875793212, 0.2955980790649805, -0.3990184860400108, -0.3990299021282507, -1.0054298349073916, 0.01839991083488768, 2.6441408231079926, 0.8744861586483532, -1.305309319474512, 1.967291453740257, -1.2130241518583071, 1.6504324115045705, -0.2053139721496881, 0.8285785784361077, 1.3004984730678937, 0.601390482143022, 1.0572214112726304, -1.9195527516952962, 3.0772433349548907, 0.41685403244557007, -1.8770272827603118, -0.616482383915258, 3.1424957304007233, -0.0406234927322886, 0.727455426564442, 0.9107453658969327, -0.07931412732652798, 2.3233152599210474, 0.8592709314739397, 0.280728484499456, 0.24466149740693766, -0.28606624147225557, 0.46070626744660426, 1.1637565138112516, 0.735564656478843, 0.042885469605645876, -0.5747162446145282, 2.5244962745731323, 0.44363074774149336, 1.9334066861954986, 1.789057398692832, -0.7047734601777278, 0.7499591815074425, 1.32289755565352, -0.29596308935314675, 2.529541822569006, 0.18002686505596133, 0.6166835407197537, 0.8809975707965383, 0.6095409748541187, 1.1348283739467655, 0.1906757573090614, 0.48768795077475513, 1.5060057512203284, -0.657049325220115, 2.7040021848586866, 0.01596297810483993, -0.31834966653448465, -0.24069006283976385, -1.1207493324955407, -0.8794439961702587, 0.1518391521983814, -0.3942437823875977, 0.14749885626097414, -0.47680758867201356, -1.5529611578336255, -0.57314902199108, -0.8993236808736476, -0.04616126305661583, -1.281196327341139, 0.2832075793046581, 1.677739466696153, -2.184431866856264, -0.8362096438074331, 0.7142148672274706, -1.348202180662738, -1.0533555503177323, -0.7839538424749011, -0.8244828964873456, -1.358163607066349, -1.8983236435747455, 0.2862672373987123, -0.24921355561111874, -0.8757213319304274, -0.6074501859334751, -0.6123988359718419, -0.7402070703050452, -0.8099013506966741, 0.21763922207736164, -0.4035525019691079, -0.7995190281632838, -0.01718249767524871, -0.7874868654002839, -1.8614582812028153, -1.7217388598042382, -0.5601778566786437, -0.714803818008455, -1.7025615969047156, -1.0317626429364781, -1.4570174476810014, -1.0802805671714086, 0.6491803806135725, 0.08811542401561989, -1.0679882940855578, -1.9414508539952944, 0.1687220745435719, -1.0310453440326863, -0.6918983054059457, -0.9943227591000758, -1.0696959541225821, 0.684168813620265, 0.3431831945191328, -0.17720904749955196, -0.9375155459426381, -0.6370671803323594, -0.13867812112168548, -0.07165003500580597, -2.178924923977002, -1.4674546257280026, 0.1010070895721974, 0.5752709092701651, -0.23499397396893412, -0.7072363045491583, -0.07112805323806692, -0.4208240303484478, -1.1897016913569156, -0.06177507586702291, -0.6100225121428665, -1.3199934194671763, -1.1779952807286969, -0.6989081853397828, -2.3156337997568484, -0.2960267768847595, 0.05061562612740622, -0.6541101844358137, -0.2015264867624847, 0.29407226765315686, -0.49300063627104745, 0.6232886163442635, -0.4372676168413027, -0.35881659021806717, -0.31542690962524267, -1.307247100286665, -0.7406840886484416, -0.7478242608016072, -0.46849708278000257, -0.20137912994129087, 0.25680304512835084, -0.0943882655574605, -0.9552838317391419, 0.23546470938301267, -0.7028497984282314, -0.425182031679997, -1.1536362988215947, -0.05807553355147055, -0.7556620771017666, -1.1347379719658528, -1.4929995553127753, -0.0225013944421103, -0.3018009238613712, -1.9012489860491883, -1.5037681739354334]\n",
      "({'epochs': 1, 'vector_size': 150, 'window': 4, 'min_count': 3}, 0.73)\n"
     ]
    },
    {
     "data": {
      "text/plain": [
       "({'epochs': 1, 'min_count': 3, 'vector_size': 150, 'window': 4}, 0.73)"
      ]
     },
     "execution_count": 142,
     "metadata": {},
     "output_type": "execute_result"
    }
   ],
   "source": [
    "run_with_args({'epochs':1, 'vector_size':150, 'min_count':3, 'window':4}, all_docs, the_rest, validation)"
   ]
  },
  {
   "cell_type": "code",
   "execution_count": 143,
   "metadata": {},
   "outputs": [
    {
     "name": "stdout",
     "output_type": "stream",
     "text": [
      "{'epochs': 10, 'workers': 4, 'vector_size': 120, 'window': 7, 'seed': 0, 'min_count': 2}\n"
     ]
    },
    {
     "data": {
      "application/vnd.jupyter.widget-view+json": {
       "model_id": "08e9fcf9ed2c471f88d4a54d16836856",
       "version_major": 2,
       "version_minor": 0
      },
      "text/plain": [
       "SEJveChjaGlsZHJlbj0oSW50UHJvZ3Jlc3ModmFsdWU9MCwgZGVzY3JpcHRpb249dSdMb2FkaW5nIHRhZ2dlZCBkb2NzIGludG8gbW9kZWwnLCBtYXg9MTAwMDAwLCBzdHlsZT1Qcm9ncmVzc1PigKY=\n"
      ]
     },
     "metadata": {},
     "output_type": "display_data"
    },
    {
     "name": "stdout",
     "output_type": "stream",
     "text": [
      "\n",
      "Epoch #0 start\n",
      "Epoch #0 end\n",
      "Epoch #1 start\n",
      "Epoch #1 end\n",
      "Epoch #2 start\n",
      "Epoch #2 end\n",
      "Epoch #3 start\n",
      "Epoch #3 end\n",
      "Epoch #4 start\n",
      "Epoch #4 end\n",
      "Epoch #5 start\n",
      "Epoch #5 end\n",
      "Epoch #6 start\n",
      "Epoch #6 end\n",
      "Epoch #7 start\n",
      "Epoch #7 end\n",
      "Epoch #8 start\n",
      "Epoch #8 end\n",
      "Epoch #9 start\n",
      "Epoch #9 end\n",
      "*** DOC2VEC TRAINED ***\n",
      "*** SVM TRAINED ***\n",
      "[-0.40785564402932706, 2.0384033773946753, -0.20966150192757727, 0.5771017816199202, 0.42475097035575216, -1.7084998178687802, 2.1367316716803506, 1.077614733674613, 0.10428773885996923, -0.07873153462356308, 1.6344981262036915, 1.0269061865294862, 0.5920600672354277, 1.2326542203988662, 2.282660453657054, 0.11513553306147695, 3.2396306232002203, -0.49563292583921503, 0.43507121540526894, 0.9816759644058266, 0.49109844895809207, 0.4619647770079147, 1.9427574168215072, -0.7363608381716871, 1.5911775976078888, 2.529774120502453, 1.019320353884036, -1.1317165190064546, -0.30140861327837765, 1.3765673613182916, 1.1349864128693878, 2.1942735255186783, 0.8782106144587463, -0.7166147110929819, -0.1996684972743208, -0.6198189029314072, 1.1502045975257629, 0.3532990508728482, -0.04791660244986495, 0.11848753737964901, -0.7864782939862249, 0.6770760046699291, -0.1370282880341005, 0.12331353171441317, 1.5416860423828738, 0.9885674343882254, -0.11181337859156137, 1.911118202706431, -0.11002853894038078, 1.519605256998988, 0.13626082252470262, 1.1314767766216873, 1.3472269875328389, 1.7288219437050232, 2.379399947080958, -1.7052362787823583, 2.451451002390294, 0.3873062818078252, -0.6798578198924066, -0.6565628156999795, 6.270799728328629, -0.03988525333382387, 1.9780286092188535, 2.087176557187152, -0.009329300586605749, 1.0788321094237323, 0.5396442939845618, 0.27246984295788246, 1.4901812262482752, 0.6466378075105905, -1.0104223937926975, 1.5800291779912803, 0.22372633897377137, 1.1024190089397898, 0.12921850811420388, 1.276984395398124, 0.2946542268916328, 2.3885476322030312, 3.636585851686468, -1.3459323759032351, 1.322297920999511, 1.8288255792637165, 0.36578366807324225, 1.0262591969813324, 1.491499580235457, 0.2008361561987193, 1.1292703714314791, 2.6749096194229356, 1.7287145620992324, -0.5084558621008377, 1.0780515168253835, 1.6357966891441988, -1.0742007822188926, 2.550978841284407, 0.32487789009000334, -0.3536242533571625, 0.4563647216446636, -0.5496054129527879, 0.07256689457690402, -0.42485915996626034, 0.31213894704485945, -0.4579550787414002, -0.2626679244896608, -0.21304363267069337, -1.5352892826240647, -0.39059205877686565, 0.4752880946146123, -1.954444791018647, -0.08949442558240062, 2.043184440347062, -0.4379875653029345, -1.4976295092586656, 0.7397040753959261, -1.64885667091151, -0.5605514265809484, -2.15023998764181, -0.7888729647359506, -0.35131462818677006, -2.6425165469234617, -1.20028602738022, 0.953066095059558, -1.1838498727534876, -0.9298229569399825, -0.0961941267497124, -0.6874753458512808, -0.6189919853572566, 0.24156038165865512, -0.21654322399348935, 0.08483958723879681, 0.1608897593678238, -2.0019944006113253, -2.2784883762139554, -0.8037336839047295, 0.16966952817554048, -0.9753277053346224, -2.38543363133773, -1.5777630380759518, -0.6265238734771165, -1.2179961793788783, 0.1492244625013639, 1.5999342801378942, -1.2305939019443528, -2.3373214564064075, -0.5693276550691209, -1.2041049130428636, -1.4075175752115732, -0.6679891614674183, -0.5738601601209118, 1.3304852965377176, 1.5754463556160065, 0.14097712579973454, -1.0859141157242058, -0.9746496884745817, 0.09786350865848115, -0.13591289027575837, -1.1416508002194399, -2.107261973548934, -1.4689176569105873, 0.8603032270284146, -0.15147393555878197, -0.1126953310983081, 0.13220899833725608, -0.5148647396477687, 0.1805365240732566, -0.4743141639249977, 0.4067899389057439, -1.381478476110361, -1.0762495978820352, -0.48334470756011694, -0.49762796145455623, 0.8925178576079242, -1.0783128967441675, -1.8537650232357863, -1.06710417693518, -0.6793665534526965, 0.02170368099325115, 1.4146729945111487, -1.7522133146858003, -0.2973777701600311, -0.6639405345224468, -1.165073088085025, -1.361842654838444, -1.647044400503685, -0.7872944025553492, -1.222368231574151, 0.07990517931119823, 0.11425235186083604, -0.681039477503549, 0.2980099087305794, -2.085881100488408, 0.052992777112352396, -0.543385983439502, 0.199688941974278, 0.04267086132301268, -1.6692710340634258, -1.7548335961175865, -0.4280016475124281, -2.1644926148440504, -1.3694909358251133, -1.2400751436943562]\n",
      "({'epochs': 10, 'vector_size': 120, 'window': 7, 'min_count': 2}, 0.72)\n"
     ]
    },
    {
     "data": {
      "text/plain": [
       "({'epochs': 10, 'min_count': 2, 'vector_size': 120, 'window': 7}, 0.72)"
      ]
     },
     "execution_count": 143,
     "metadata": {},
     "output_type": "execute_result"
    }
   ],
   "source": [
    "run_with_args({'epochs':10, 'vector_size':120, 'min_count':2, 'window':7}, all_docs, the_rest, validation)"
   ]
  },
  {
   "cell_type": "code",
   "execution_count": 145,
   "metadata": {
    "scrolled": true
   },
   "outputs": [
    {
     "name": "stdout",
     "output_type": "stream",
     "text": [
      "{'epochs': 15, 'workers': 4, 'vector_size': 100, 'window': 2, 'seed': 0, 'min_count': 1}\n"
     ]
    },
    {
     "data": {
      "application/vnd.jupyter.widget-view+json": {
       "model_id": "72cf80f862e246d1bece64c41e8642fc",
       "version_major": 2,
       "version_minor": 0
      },
      "text/plain": [
       "SEJveChjaGlsZHJlbj0oSW50UHJvZ3Jlc3ModmFsdWU9MCwgZGVzY3JpcHRpb249dSdMb2FkaW5nIHRhZ2dlZCBkb2NzIGludG8gbW9kZWwnLCBtYXg9MTAwMDAwLCBzdHlsZT1Qcm9ncmVzc1PigKY=\n"
      ]
     },
     "metadata": {},
     "output_type": "display_data"
    },
    {
     "name": "stdout",
     "output_type": "stream",
     "text": [
      "\n",
      "Epoch #0 start\n",
      "Epoch #0 end\n",
      "Epoch #1 start\n",
      "Epoch #1 end\n",
      "Epoch #2 start\n",
      "Epoch #2 end\n",
      "Epoch #3 start\n",
      "Epoch #3 end\n",
      "Epoch #4 start\n",
      "Epoch #4 end\n",
      "Epoch #5 start\n",
      "Epoch #5 end\n",
      "Epoch #6 start\n",
      "Epoch #6 end\n",
      "Epoch #7 start\n",
      "Epoch #7 end\n",
      "Epoch #8 start\n",
      "Epoch #8 end\n",
      "Epoch #9 start\n",
      "Epoch #9 end\n",
      "Epoch #10 start\n",
      "Epoch #10 end\n",
      "Epoch #11 start\n",
      "Epoch #11 end\n",
      "Epoch #12 start\n",
      "Epoch #12 end\n",
      "Epoch #13 start\n",
      "Epoch #13 end\n",
      "Epoch #14 start\n",
      "Epoch #14 end\n",
      "*** DOC2VEC TRAINED ***\n",
      "*** SVM TRAINED ***\n",
      "({'epochs': 15, 'vector_size': 100, 'window': 2, 'min_count': 1}, 0.73)\n"
     ]
    },
    {
     "data": {
      "text/plain": [
       "({'epochs': 15, 'min_count': 1, 'vector_size': 100, 'window': 2}, 0.73)"
      ]
     },
     "execution_count": 145,
     "metadata": {},
     "output_type": "execute_result"
    }
   ],
   "source": [
    "run_with_args({'epochs':15, 'vector_size':100, 'min_count':1, 'window':2}, all_docs, the_rest, validation)"
   ]
  },
  {
   "cell_type": "code",
   "execution_count": 147,
   "metadata": {
    "scrolled": false
   },
   "outputs": [
    {
     "name": "stdout",
     "output_type": "stream",
     "text": [
      "{'epochs': 10, 'dm': 0, 'workers': 4, 'vector_size': 120, 'window': 7, 'seed': 0, 'min_count': 2}\n"
     ]
    },
    {
     "data": {
      "application/vnd.jupyter.widget-view+json": {
       "model_id": "96a8faaf543a48f0aa922d5db5f9206c",
       "version_major": 2,
       "version_minor": 0
      },
      "text/plain": [
       "SEJveChjaGlsZHJlbj0oSW50UHJvZ3Jlc3ModmFsdWU9MCwgZGVzY3JpcHRpb249dSdMb2FkaW5nIHRhZ2dlZCBkb2NzIGludG8gbW9kZWwnLCBtYXg9MTAwMDAwLCBzdHlsZT1Qcm9ncmVzc1PigKY=\n"
      ]
     },
     "metadata": {},
     "output_type": "display_data"
    },
    {
     "name": "stdout",
     "output_type": "stream",
     "text": [
      "\n",
      "Epoch #0 start\n",
      "Epoch #0 end\n",
      "Epoch #1 start\n",
      "Epoch #1 end\n",
      "Epoch #2 start\n",
      "Epoch #2 end\n",
      "Epoch #3 start\n",
      "Epoch #3 end\n",
      "Epoch #4 start\n",
      "Epoch #4 end\n",
      "Epoch #5 start\n",
      "Epoch #5 end\n",
      "Epoch #6 start\n",
      "Epoch #6 end\n",
      "Epoch #7 start\n",
      "Epoch #7 end\n",
      "Epoch #8 start\n",
      "Epoch #8 end\n",
      "Epoch #9 start\n",
      "Epoch #9 end\n",
      "*** DOC2VEC TRAINED ***\n",
      "*** SVM TRAINED ***\n",
      "({'epochs': 10, 'vector_size': 120, 'window': 7, 'dm': 0, 'min_count': 2}, 0.82)\n"
     ]
    },
    {
     "data": {
      "text/plain": [
       "({'dm': 0, 'epochs': 10, 'min_count': 2, 'vector_size': 120, 'window': 7},\n",
       " 0.82)"
      ]
     },
     "execution_count": 147,
     "metadata": {},
     "output_type": "execute_result"
    }
   ],
   "source": [
    "run_with_args({'dm':0,'epochs':10, 'vector_size':120, 'min_count':2, 'window':7}, all_docs, the_rest, validation)"
   ]
  },
  {
   "cell_type": "code",
   "execution_count": 149,
   "metadata": {},
   "outputs": [
    {
     "name": "stdout",
     "output_type": "stream",
     "text": [
      "{'epochs': 10, 'dm': 0, 'workers': 4, 'vector_size': 120, 'window': 7, 'seed': 0, 'min_count': 2}\n"
     ]
    },
    {
     "data": {
      "application/vnd.jupyter.widget-view+json": {
       "model_id": "a5a9e770a7374229aa3396533df62e16",
       "version_major": 2,
       "version_minor": 0
      },
      "text/plain": [
       "SEJveChjaGlsZHJlbj0oSW50UHJvZ3Jlc3ModmFsdWU9MCwgZGVzY3JpcHRpb249dSdMb2FkaW5nIHRhZ2dlZCBkb2NzIGludG8gbW9kZWwnLCBtYXg9MTAwMDAwLCBzdHlsZT1Qcm9ncmVzc1PigKY=\n"
      ]
     },
     "metadata": {},
     "output_type": "display_data"
    },
    {
     "name": "stdout",
     "output_type": "stream",
     "text": [
      "\n",
      "Epoch #0 start\n",
      "Epoch #0 end\n",
      "Epoch #1 start\n",
      "Epoch #1 end\n",
      "Epoch #2 start\n",
      "Epoch #2 end\n",
      "Epoch #3 start\n",
      "Epoch #3 end\n",
      "Epoch #4 start\n",
      "Epoch #4 end\n",
      "Epoch #5 start\n",
      "Epoch #5 end\n",
      "Epoch #6 start\n",
      "Epoch #6 end\n",
      "Epoch #7 start\n",
      "Epoch #7 end\n",
      "Epoch #8 start\n",
      "Epoch #8 end\n",
      "Epoch #9 start\n",
      "Epoch #9 end\n",
      "*** DOC2VEC TRAINED ***\n",
      "*** SVM TRAINED ***\n",
      "({'epochs': 10, 'vector_size': 120, 'window': 7, 'dm': 0, 'min_count': 2}, 0.86)\n"
     ]
    },
    {
     "data": {
      "text/plain": [
       "({'dm': 0, 'epochs': 10, 'min_count': 2, 'vector_size': 120, 'window': 7},\n",
       " 0.86)"
      ]
     },
     "execution_count": 149,
     "metadata": {},
     "output_type": "execute_result"
    }
   ],
   "source": [
    "run_with_args({'dm':0,'epochs':10, 'vector_size':120, 'min_count':2, 'window':7}, all_docs, the_rest, validation)"
   ]
  },
  {
   "cell_type": "code",
   "execution_count": 150,
   "metadata": {},
   "outputs": [
    {
     "name": "stdout",
     "output_type": "stream",
     "text": [
      "{'epochs': 10, 'dm': 0, 'hs': 1, 'workers': 4, 'vector_size': 120, 'window': 7, 'seed': 0, 'min_count': 2}\n"
     ]
    },
    {
     "data": {
      "application/vnd.jupyter.widget-view+json": {
       "model_id": "4e0620de741b4062bd29bec008c856c5",
       "version_major": 2,
       "version_minor": 0
      },
      "text/plain": [
       "SEJveChjaGlsZHJlbj0oSW50UHJvZ3Jlc3ModmFsdWU9MCwgZGVzY3JpcHRpb249dSdMb2FkaW5nIHRhZ2dlZCBkb2NzIGludG8gbW9kZWwnLCBtYXg9MTAwMDAwLCBzdHlsZT1Qcm9ncmVzc1PigKY=\n"
      ]
     },
     "metadata": {},
     "output_type": "display_data"
    },
    {
     "name": "stdout",
     "output_type": "stream",
     "text": [
      "\n",
      "Epoch #0 start\n",
      "Epoch #0 end\n",
      "Epoch #1 start\n",
      "Epoch #1 end\n",
      "Epoch #2 start\n",
      "Epoch #2 end\n",
      "Epoch #3 start\n",
      "Epoch #3 end\n",
      "Epoch #4 start\n",
      "Epoch #4 end\n",
      "Epoch #5 start\n",
      "Epoch #5 end\n",
      "Epoch #6 start\n",
      "Epoch #6 end\n",
      "Epoch #7 start\n",
      "Epoch #7 end\n",
      "Epoch #8 start\n",
      "Epoch #8 end\n",
      "Epoch #9 start\n",
      "Epoch #9 end\n",
      "*** DOC2VEC TRAINED ***\n",
      "*** SVM TRAINED ***\n",
      "({'vector_size': 120, 'dm': 0, 'hs': 1, 'epochs': 10, 'window': 7, 'min_count': 2}, 0.83)\n"
     ]
    },
    {
     "data": {
      "text/plain": [
       "({'dm': 0,\n",
       "  'epochs': 10,\n",
       "  'hs': 1,\n",
       "  'min_count': 2,\n",
       "  'vector_size': 120,\n",
       "  'window': 7},\n",
       " 0.83)"
      ]
     },
     "execution_count": 150,
     "metadata": {},
     "output_type": "execute_result"
    }
   ],
   "source": [
    "run_with_args({'dm':0,'epochs':10, 'vector_size':120, 'min_count':2, 'window':7, 'hs':1}, all_docs, the_rest, validation)"
   ]
  },
  {
   "cell_type": "code",
   "execution_count": 151,
   "metadata": {},
   "outputs": [
    {
     "name": "stdout",
     "output_type": "stream",
     "text": [
      "{'epochs': 15, 'dm': 0, 'hs': 1, 'workers': 4, 'vector_size': 100, 'window': 4, 'seed': 0, 'min_count': 3}\n"
     ]
    },
    {
     "data": {
      "application/vnd.jupyter.widget-view+json": {
       "model_id": "2bb9ead040134c05930773f151a97474",
       "version_major": 2,
       "version_minor": 0
      },
      "text/plain": [
       "SEJveChjaGlsZHJlbj0oSW50UHJvZ3Jlc3ModmFsdWU9MCwgZGVzY3JpcHRpb249dSdMb2FkaW5nIHRhZ2dlZCBkb2NzIGludG8gbW9kZWwnLCBtYXg9MTAwMDAwLCBzdHlsZT1Qcm9ncmVzc1PigKY=\n"
      ]
     },
     "metadata": {},
     "output_type": "display_data"
    },
    {
     "name": "stdout",
     "output_type": "stream",
     "text": [
      "\n",
      "Epoch #0 start\n",
      "Epoch #0 end\n",
      "Epoch #1 start\n",
      "Epoch #1 end\n",
      "Epoch #2 start\n",
      "Epoch #2 end\n",
      "Epoch #3 start\n",
      "Epoch #3 end\n",
      "Epoch #4 start\n",
      "Epoch #4 end\n",
      "Epoch #5 start\n",
      "Epoch #5 end\n",
      "Epoch #6 start\n",
      "Epoch #6 end\n",
      "Epoch #7 start\n",
      "Epoch #7 end\n",
      "Epoch #8 start\n",
      "Epoch #8 end\n",
      "Epoch #9 start\n",
      "Epoch #9 end\n",
      "Epoch #10 start\n",
      "Epoch #10 end\n",
      "Epoch #11 start\n",
      "Epoch #11 end\n",
      "Epoch #12 start\n",
      "Epoch #12 end\n",
      "Epoch #13 start\n",
      "Epoch #13 end\n",
      "Epoch #14 start\n",
      "Epoch #14 end\n",
      "*** DOC2VEC TRAINED ***\n",
      "*** SVM TRAINED ***\n",
      "({'vector_size': 100, 'dm': 0, 'hs': 1, 'epochs': 15, 'window': 4, 'min_count': 3}, 0.82)\n"
     ]
    },
    {
     "data": {
      "text/plain": [
       "({'dm': 0,\n",
       "  'epochs': 15,\n",
       "  'hs': 1,\n",
       "  'min_count': 3,\n",
       "  'vector_size': 100,\n",
       "  'window': 4},\n",
       " 0.82)"
      ]
     },
     "execution_count": 151,
     "metadata": {},
     "output_type": "execute_result"
    }
   ],
   "source": [
    "run_with_args({'dm':0,'epochs':15, 'vector_size':100, 'min_count':3, 'window':4, 'hs':1}, all_docs, the_rest, validation)"
   ]
  },
  {
   "cell_type": "code",
   "execution_count": 152,
   "metadata": {
    "scrolled": false
   },
   "outputs": [
    {
     "name": "stdout",
     "output_type": "stream",
     "text": [
      "{'epochs': 20, 'dm': 0, 'hs': 1, 'workers': 4, 'vector_size': 120, 'window': 7, 'seed': 0, 'min_count': 2}\n"
     ]
    },
    {
     "data": {
      "application/vnd.jupyter.widget-view+json": {
       "model_id": "a2778198c6a2403ea4498bd2772c0114",
       "version_major": 2,
       "version_minor": 0
      },
      "text/plain": [
       "SEJveChjaGlsZHJlbj0oSW50UHJvZ3Jlc3ModmFsdWU9MCwgZGVzY3JpcHRpb249dSdMb2FkaW5nIHRhZ2dlZCBkb2NzIGludG8gbW9kZWwnLCBtYXg9MTAwMDAwLCBzdHlsZT1Qcm9ncmVzc1PigKY=\n"
      ]
     },
     "metadata": {},
     "output_type": "display_data"
    },
    {
     "name": "stdout",
     "output_type": "stream",
     "text": [
      "\n",
      "Epoch #0 start\n",
      "Epoch #0 end\n",
      "Epoch #1 start\n",
      "Epoch #1 end\n",
      "Epoch #2 start\n",
      "Epoch #2 end\n",
      "Epoch #3 start\n",
      "Epoch #3 end\n",
      "Epoch #4 start\n",
      "Epoch #4 end\n",
      "Epoch #5 start\n",
      "Epoch #5 end\n",
      "Epoch #6 start\n",
      "Epoch #6 end\n",
      "Epoch #7 start\n",
      "Epoch #7 end\n",
      "Epoch #8 start\n",
      "Epoch #8 end\n",
      "Epoch #9 start\n",
      "Epoch #9 end\n",
      "Epoch #10 start\n",
      "Epoch #10 end\n",
      "Epoch #11 start\n",
      "Epoch #11 end\n",
      "Epoch #12 start\n",
      "Epoch #12 end\n",
      "Epoch #13 start\n",
      "Epoch #13 end\n",
      "Epoch #14 start\n",
      "Epoch #14 end\n",
      "Epoch #15 start\n",
      "Epoch #15 end\n",
      "Epoch #16 start\n",
      "Epoch #16 end\n",
      "Epoch #17 start\n",
      "Epoch #17 end\n",
      "Epoch #18 start\n",
      "Epoch #18 end\n",
      "Epoch #19 start\n",
      "Epoch #19 end\n",
      "*** DOC2VEC TRAINED ***\n",
      "*** SVM TRAINED ***\n",
      "({'vector_size': 120, 'dm': 0, 'hs': 1, 'epochs': 20, 'window': 7, 'min_count': 2}, 0.8)\n"
     ]
    },
    {
     "data": {
      "text/plain": [
       "({'dm': 0,\n",
       "  'epochs': 20,\n",
       "  'hs': 1,\n",
       "  'min_count': 2,\n",
       "  'vector_size': 120,\n",
       "  'window': 7},\n",
       " 0.8)"
      ]
     },
     "execution_count": 152,
     "metadata": {},
     "output_type": "execute_result"
    }
   ],
   "source": [
    "run_with_args({'dm':0,'epochs':20, 'vector_size':120, 'min_count':2, 'window':7, 'hs':1}, all_docs, the_rest, validation)"
   ]
  },
  {
   "cell_type": "code",
   "execution_count": 153,
   "metadata": {
    "scrolled": false
   },
   "outputs": [
    {
     "name": "stdout",
     "output_type": "stream",
     "text": [
      "{'epochs': 20, 'dm': 0, 'hs': 1, 'workers': 4, 'vector_size': 120, 'window': 7, 'seed': 0, 'min_count': 2}\n"
     ]
    },
    {
     "data": {
      "application/vnd.jupyter.widget-view+json": {
       "model_id": "33da0c8887ac4a7882d156f572a7a425",
       "version_major": 2,
       "version_minor": 0
      },
      "text/plain": [
       "SEJveChjaGlsZHJlbj0oSW50UHJvZ3Jlc3ModmFsdWU9MCwgZGVzY3JpcHRpb249dSdMb2FkaW5nIHRhZ2dlZCBkb2NzIGludG8gbW9kZWwnLCBtYXg9MTAwMDAwLCBzdHlsZT1Qcm9ncmVzc1PigKY=\n"
      ]
     },
     "metadata": {},
     "output_type": "display_data"
    },
    {
     "name": "stdout",
     "output_type": "stream",
     "text": [
      "\n",
      "Epoch #0 start\n",
      "Epoch #0 end\n",
      "Epoch #1 start\n",
      "Epoch #1 end\n",
      "Epoch #2 start\n",
      "Epoch #2 end\n",
      "Epoch #3 start\n",
      "Epoch #3 end\n",
      "Epoch #4 start\n",
      "Epoch #4 end\n",
      "Epoch #5 start\n",
      "Epoch #5 end\n",
      "Epoch #6 start\n",
      "Epoch #6 end\n",
      "Epoch #7 start\n",
      "Epoch #7 end\n",
      "Epoch #8 start\n",
      "Epoch #8 end\n",
      "Epoch #9 start\n",
      "Epoch #9 end\n",
      "Epoch #10 start\n",
      "Epoch #10 end\n",
      "Epoch #11 start\n",
      "Epoch #11 end\n",
      "Epoch #12 start\n",
      "Epoch #12 end\n",
      "Epoch #13 start\n",
      "Epoch #13 end\n",
      "Epoch #14 start\n",
      "Epoch #14 end\n",
      "Epoch #15 start\n",
      "Epoch #15 end\n",
      "Epoch #16 start\n",
      "Epoch #16 end\n",
      "Epoch #17 start\n",
      "Epoch #17 end\n",
      "Epoch #18 start\n",
      "Epoch #18 end\n",
      "Epoch #19 start\n",
      "Epoch #19 end\n",
      "*** DOC2VEC TRAINED ***\n",
      "*** SVM TRAINED ***\n",
      "({'vector_size': 120, 'dm': 0, 'hs': 1, 'epochs': 20, 'window': 7, 'min_count': 2}, 0.81)\n"
     ]
    },
    {
     "data": {
      "text/plain": [
       "({'dm': 0,\n",
       "  'epochs': 20,\n",
       "  'hs': 1,\n",
       "  'min_count': 2,\n",
       "  'vector_size': 120,\n",
       "  'window': 7},\n",
       " 0.81)"
      ]
     },
     "execution_count": 153,
     "metadata": {},
     "output_type": "execute_result"
    }
   ],
   "source": [
    "run_with_args({'dm':0,'epochs':20, 'vector_size':120, 'min_count':2, 'window':7, 'hs':1}, all_docs, the_rest, validation)"
   ]
  },
  {
   "cell_type": "code",
   "execution_count": 154,
   "metadata": {
    "scrolled": false
   },
   "outputs": [
    {
     "name": "stdout",
     "output_type": "stream",
     "text": [
      "{'epochs': 10, 'dm': 0, 'workers': 4, 'vector_size': 120, 'window': 7, 'seed': 0, 'dbow_words': 1, 'min_count': 2}\n"
     ]
    },
    {
     "data": {
      "application/vnd.jupyter.widget-view+json": {
       "model_id": "fd6a482c639c4b0f90320d2f8123266a",
       "version_major": 2,
       "version_minor": 0
      },
      "text/plain": [
       "SEJveChjaGlsZHJlbj0oSW50UHJvZ3Jlc3ModmFsdWU9MCwgZGVzY3JpcHRpb249dSdMb2FkaW5nIHRhZ2dlZCBkb2NzIGludG8gbW9kZWwnLCBtYXg9MTAwMDAwLCBzdHlsZT1Qcm9ncmVzc1PigKY=\n"
      ]
     },
     "metadata": {},
     "output_type": "display_data"
    },
    {
     "name": "stdout",
     "output_type": "stream",
     "text": [
      "\n",
      "Epoch #0 start\n",
      "Epoch #0 end\n",
      "Epoch #1 start\n",
      "Epoch #1 end\n",
      "Epoch #2 start\n",
      "Epoch #2 end\n",
      "Epoch #3 start\n",
      "Epoch #3 end\n",
      "Epoch #4 start\n",
      "Epoch #4 end\n",
      "Epoch #5 start\n",
      "Epoch #5 end\n",
      "Epoch #6 start\n",
      "Epoch #6 end\n",
      "Epoch #7 start\n",
      "Epoch #7 end\n",
      "Epoch #8 start\n",
      "Epoch #8 end\n",
      "Epoch #9 start\n",
      "Epoch #9 end\n",
      "*** DOC2VEC TRAINED ***\n",
      "*** SVM TRAINED ***\n",
      "({'vector_size': 120, 'dm': 0, 'epochs': 10, 'window': 7, 'dbow_words': 1, 'min_count': 2}, 0.825)\n"
     ]
    },
    {
     "data": {
      "text/plain": [
       "({'dbow_words': 1,\n",
       "  'dm': 0,\n",
       "  'epochs': 10,\n",
       "  'min_count': 2,\n",
       "  'vector_size': 120,\n",
       "  'window': 7},\n",
       " 0.825)"
      ]
     },
     "execution_count": 154,
     "metadata": {},
     "output_type": "execute_result"
    }
   ],
   "source": [
    "run_with_args({'dm':0,'epochs':10, 'vector_size':120, 'min_count':2, 'window':7, 'dbow_words': 1}, all_docs, the_rest, validation)"
   ]
  },
  {
   "cell_type": "code",
   "execution_count": 155,
   "metadata": {},
   "outputs": [
    {
     "name": "stdout",
     "output_type": "stream",
     "text": [
      "{'epochs': 10, 'dm': 0, 'workers': 4, 'vector_size': 120, 'window': 7, 'seed': 0, 'min_count': 2}\n"
     ]
    },
    {
     "data": {
      "application/vnd.jupyter.widget-view+json": {
       "model_id": "586b620cac1b4be3805cb847907cd363",
       "version_major": 2,
       "version_minor": 0
      },
      "text/plain": [
       "SEJveChjaGlsZHJlbj0oSW50UHJvZ3Jlc3ModmFsdWU9MCwgZGVzY3JpcHRpb249dSdMb2FkaW5nIHRhZ2dlZCBkb2NzIGludG8gbW9kZWwnLCBtYXg9MTAwMDAwLCBzdHlsZT1Qcm9ncmVzc1PigKY=\n"
      ]
     },
     "metadata": {},
     "output_type": "display_data"
    },
    {
     "name": "stdout",
     "output_type": "stream",
     "text": [
      "\n",
      "Epoch #0 start\n",
      "Epoch #0 end\n",
      "Epoch #1 start\n",
      "Epoch #1 end\n",
      "Epoch #2 start\n",
      "Epoch #2 end\n",
      "Epoch #3 start\n",
      "Epoch #3 end\n",
      "Epoch #4 start\n",
      "Epoch #4 end\n",
      "Epoch #5 start\n",
      "Epoch #5 end\n",
      "Epoch #6 start\n",
      "Epoch #6 end\n",
      "Epoch #7 start\n",
      "Epoch #7 end\n",
      "Epoch #8 start\n",
      "Epoch #8 end\n",
      "Epoch #9 start\n",
      "Epoch #9 end\n",
      "*** DOC2VEC TRAINED ***\n",
      "*** SVM TRAINED ***\n",
      "({'epochs': 10, 'vector_size': 120, 'window': 7, 'dm': 0, 'min_count': 2}, 0.845)\n"
     ]
    },
    {
     "data": {
      "text/plain": [
       "({'dm': 0, 'epochs': 10, 'min_count': 2, 'vector_size': 120, 'window': 7},\n",
       " 0.845)"
      ]
     },
     "execution_count": 155,
     "metadata": {},
     "output_type": "execute_result"
    }
   ],
   "source": [
    "run_with_args({'dm':0,'epochs':10, 'vector_size':120, 'min_count':2, 'window':7}, all_docs, the_rest, validation)"
   ]
  },
  {
   "cell_type": "code",
   "execution_count": null,
   "metadata": {},
   "outputs": [],
   "source": []
  }
 ],
 "metadata": {
  "kernelspec": {
   "display_name": "Python 3",
   "language": "python",
   "name": "python3"
  }
 },
 "nbformat": 4,
 "nbformat_minor": 2
}
